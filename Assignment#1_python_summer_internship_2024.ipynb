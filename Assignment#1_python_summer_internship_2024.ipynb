{
 "cells": [
  {
   "cell_type": "markdown",
   "id": "6489ecef-5ee6-43af-9f14-62d41cd1127d",
   "metadata": {},
   "source": [
    "# Python 2024 onlineSummer internship"
   ]
  },
  {
   "cell_type": "markdown",
   "id": "5e687389-7c3a-4e0e-b19a-9d9d803e7c6e",
   "metadata": {},
   "source": [
    "# Make your place in Top 20% python programmers of the world"
   ]
  },
  {
   "cell_type": "markdown",
   "id": "57a58a3f-5cc1-41e0-9538-34b974db0430",
   "metadata": {},
   "source": [
    "## **Name:Usfa Sohail**\n",
    "## **E-mail:usfasohail389@gmail.com**"
   ]
  },
  {
   "cell_type": "markdown",
   "id": "d3c3d4f8-ac31-4b22-ac71-e041c2af01a8",
   "metadata": {},
   "source": [
    "# **To Do Task 1:**"
   ]
  },
  {
   "cell_type": "markdown",
   "id": "822f0729-07d5-4695-a972-975f56788ae1",
   "metadata": {},
   "source": [
    "## **Write prompts to fulfill following needs**"
   ]
  },
  {
   "cell_type": "markdown",
   "id": "18c3f9b9-9d4c-46f5-a002-6d957403b78d",
   "metadata": {},
   "source": [
    "## **Information 1:**"
   ]
  },
  {
   "cell_type": "markdown",
   "id": "af554bee-0d3c-4e0b-a83a-0d3fcc30edfa",
   "metadata": {},
   "source": [
    "## **Step by step process to write a python program**"
   ]
  },
  {
   "cell_type": "markdown",
   "id": "32ee49b9-a76b-4d34-a371-1b4e5b617608",
   "metadata": {},
   "source": [
    "### **1.Set Up Your Development Environment**"
   ]
  },
  {
   "cell_type": "markdown",
   "id": "49dafbb2-5e5f-4fbb-b8ab-d34d9ea355ba",
   "metadata": {},
   "source": [
    "**Install Python:** Ensure Python is installed on your system. Download it from the official Python website.\n",
    "\n",
    "**Choose a Code Editor or IDE:** Options include VSCode, PyCharm, or Jupyter Notebook. Install your preferred editor or IDE."
   ]
  },
  {
   "cell_type": "markdown",
   "id": "0064a543-6e7d-48c7-b2ad-99370c95fbe0",
   "metadata": {},
   "source": [
    "### **2.Create a New Python File**"
   ]
  },
  {
   "cell_type": "markdown",
   "id": "8861b4ac-1a03-4a29-a3fb-5954790936e2",
   "metadata": {},
   "source": [
    "Open your code editor or IDE.\n",
    "\n",
    "Create a new file with a .py extension (e.g., hello.py)."
   ]
  },
  {
   "cell_type": "markdown",
   "id": "7638c7ce-cc18-4255-8646-fec0b50ad44e",
   "metadata": {},
   "source": [
    "### **3.Understand the Basics of Python Syntax**"
   ]
  },
  {
   "cell_type": "markdown",
   "id": "44e4fb62-4ef8-4ea0-ae81-8d26e3199811",
   "metadata": {},
   "source": [
    "**Comments:** Learn how to write single-line and multi-line comments.\n",
    "\n",
    "**Indentation:** Python uses indentation to define code blocks. Be consistent with the number of spaces you use for indentation."
   ]
  },
  {
   "cell_type": "markdown",
   "id": "c7c60ba0-bc71-429f-ae24-b3c4fd734c41",
   "metadata": {},
   "source": [
    "### **4.Write a Simple Python Program**\n",
    "\n",
    "Start by writing a simple program, like printing \"Hello, world!\" to the console.\n"
   ]
  },
  {
   "cell_type": "markdown",
   "id": "a9e2f023-75ed-4604-bbb9-8c6a777ed585",
   "metadata": {},
   "source": [
    "### **5.Learn About Variables and Data Types**\n",
    "\n",
    "Understand how to declare variables and the different data types available in Python (e.g., strings, integers, floats, booleans).\n"
   ]
  },
  {
   "cell_type": "markdown",
   "id": "231724e7-a451-43ba-a20f-1eaeba17a0bb",
   "metadata": {},
   "source": [
    "### **6.Perform Basic Operations**\n",
    "\n",
    "Practice arithmetic operations, string concatenation, and other basic operations.\n",
    "### **7.Use Control Structures**\n",
    "\n",
    "Learn how to write conditional statements (if, elif, else) and loops (for, while) to control the flow of your program.\n"
   ]
  },
  {
   "cell_type": "markdown",
   "id": "228b9481-c10d-4c71-b56a-6d1756d48939",
   "metadata": {},
   "source": [
    "### **8.Define and Use Functions**\n",
    "\n",
    "Understand how to define functions and call them. Functions help you organize your code into reusable blocks.\n",
    "### **9.Work with Modules and Libraries**\n",
    "\n",
    "Learn how to import and use Python's standard libraries and third-party libraries to extend the functionality of your programs."
   ]
  },
  {
   "cell_type": "markdown",
   "id": "72ba2db0-461d-4810-b9f7-6d82422884e6",
   "metadata": {},
   "source": [
    "### **10.Handle Errors and Exceptions**\n",
    "\n",
    "Learn about error handling using try, except, and finally blocks to manage exceptions in your code.\n",
    "### **11.Read from and Write to Files**\n",
    "\n",
    "Practice file I/O operations to read data from files and write data to files.\n",
    "### **12.Test Your Code**\n",
    "\n",
    "Regularly run your Python program to check for errors and ensure it behaves as expected."
   ]
  },
  {
   "cell_type": "markdown",
   "id": "a64a856c-afc4-4ee6-9843-5f06f7c30c52",
   "metadata": {},
   "source": [
    "### **13.Debugging**\n",
    "\n",
    "Use debugging tools or insert print statements in your code to find and fix errors.\n",
    "### **14.Practice and Build Projects**\n",
    "\n",
    "Apply your knowledge by building small projects, which will help reinforce what you've learned and improve your problem-solving skills."
   ]
  },
  {
   "cell_type": "markdown",
   "id": "1c00cfb8-9607-412e-875a-d19802b993b1",
   "metadata": {},
   "source": [
    "## **Infromation 2:**"
   ]
  },
  {
   "cell_type": "markdown",
   "id": "7c98918e-7c78-4d94-ae70-86f15f6639fa",
   "metadata": {},
   "source": [
    "## **Step by step process to write a python comment**"
   ]
  },
  {
   "cell_type": "markdown",
   "id": "2a0a712a-8e23-433b-945e-51fb747182f3",
   "metadata": {},
   "source": [
    " ### **1.Understand the Purpose of Comments:**\n",
    "Comments help explain what your code does and why. They make your code easier to read and maintain.\n",
    "\n",
    "### **2. Decide on the Type of Comment:**\n",
    "##### **There are two main types:**\n",
    "\n",
    "**Inline Comments:** Short comments next to a line of code.\n",
    "\n",
    "**Block Comments:** Longer comments that cover several lines or a section of code.\n",
    "### **3. Write Inline Comments:**\n",
    "**When:** Use these for brief explanations right beside a line of code.\n",
    "\n",
    "**How:** Place the comment after the code, with a few spaces between the code and the comment.\n",
    "### **4. Write Block Comments:**\n",
    "**When:** Use these for longer explanations or for describing a section of code.\n",
    "\n",
    "**How:** Put the comment above the code you are explaining, with each line of the comment starting with a #.\n",
    "### **5. Write Docstrings for Functions and Classes:**\n",
    "**When:** Use these to describe what a function or class does.\n",
    "\n",
    "**How:** Write the comment right after the function or class definition, using triple quotes.\n",
    "### **6. Update Comments:**\n",
    "**Why:** Ensure comments stay accurate as you change the code.\n",
    "\n",
    "**How:** Revise or remove comments if the code changes.\n",
    "### **7. Be Clear and Brief:**\n",
    "**What:** Focus on making your comments clear and to the point.\n",
    "\n",
    "**How:** Avoid redundant explanations and keep your comments focused.\n",
    "### **8. Explain “Why” Not “What”:**\n",
    "**What:** Aim to clarify why something is done a certain way.\n",
    "\n",
    "**How:** The code should show what it does; your comments should explain the reasoning."
   ]
  },
  {
   "cell_type": "markdown",
   "id": "b77dfa26-8610-4e81-bcdc-6a6dc9124ece",
   "metadata": {},
   "source": [
    "# Your Turn 1:"
   ]
  },
  {
   "cell_type": "markdown",
   "id": "3f39b47d-2cd4-4f83-95f3-9d14ee2f9574",
   "metadata": {},
   "source": [
    "## Step by step process to debug a python program\n",
    "### **1.Understand the Problem:**\n",
    "\n",
    "Clearly define the nature of the problem in your code.\n",
    "\n",
    "**Reproduce the Issue:** Run the program to see the error in action.\n",
    "\n",
    "**Document Symptoms:** Note down what goes wrong. Is there a specific error message, or is the output not as expected?\n",
    "\n",
    "**Define Expectations:** Compare what you expected to happen with what actually happened.\n",
    "### **2.Analyze the Error Message:**\n",
    "\n",
    "Extract useful information from the error message and traceback.\n",
    "\n",
    "**Read Traceback:** Trace the error back to the exact line where it occurred.\n",
    "\n",
    "**Identify Error Type:** Determine whether it’s a syntax error, runtime error, or logical error.\n",
    "\n",
    "**Research Error:** Look up the error message or exception type for more information if it’s unfamiliar.\n",
    "### **3.Add Print Statements:**\n",
    "\n",
    "Gather information about the internal state of the program.\n",
    "\n",
    "**Insert Prints:** Add statements to display variable values or control flow.\n",
    "\n",
    "**Identify Checkpoints:** Place them at key points before and after suspected problematic code.\n",
    "\n",
    "**Observe Outputs:** Use the outputs to check if variables hold expected values and if functions execute as intended.\n",
    "### **4.Use a Debugger:**\n",
    "\n",
    "**Set Breakpoints:** Pause at the line where the addition occurs.\n",
    "\n",
    "**Step Through:** Examine the variables and their types.\n",
    "\n",
    "### 5.**Check for Common Issues:**\n",
    "\n",
    "**Verify:** Make sure you’re not accidentally mixing data types.\n",
    "\n",
    "**Dependencies:** Ensure no external libraries are causing type conflicts.\n",
    "\n",
    "### **6.Review Code Logic:**\n",
    "\n",
    "**Analyze:** Check if the addition operation is supposed to be concatenation or arithmetic.\n",
    "\n",
    "**Edge Cases:** Test with different data types.\n",
    "\n",
    "### **7.Isolate the Problem:**\n",
    "\n",
    "**Simplify:** Create a minimal example to isolate the TypeError.\n",
    "\n",
    "### **8.Consult Documentation and Resources:**\n",
    "\n",
    "**Read:** Look up type conversion and data manipulation in Python.\n",
    "\n",
    "**Search:** Look for TypeError solutions for similar issues.\n",
    "### **9.Refactor the Code:**\n",
    "\n",
    "**Fix:** Convert the integer to a string or use arithmetic operations correctly.\n",
    "\n",
    "**Re-test:** Ensure that the fix works and does not break other functionality.\n",
    "### **10.Test After Fixing:**\n",
    "\n",
    "**Run Tests:** Check the program to confirm the fix and that no new issues are introduced.\n"
   ]
  },
  {
   "cell_type": "markdown",
   "id": "b0255ad8-521e-40b9-91bc-0574ea10360d",
   "metadata": {},
   "source": [
    "# To Do Task 2:"
   ]
  },
  {
   "cell_type": "markdown",
   "id": "7ef4715a-347a-4211-8ff7-007e94e5ddd0",
   "metadata": {},
   "source": [
    "### Example 1:Print the following message on output screen:\n",
    "Purpose of our lives is:Friendship of Allah"
   ]
  },
  {
   "cell_type": "code",
   "execution_count": 3,
   "id": "c87b4c91-e1a5-4f6c-a949-a2eca08b5ffa",
   "metadata": {},
   "outputs": [
    {
     "name": "stdout",
     "output_type": "stream",
     "text": [
      "Purpose of our lives is:Friendship of Allah\n"
     ]
    }
   ],
   "source": [
    "print(\"Purpose of our lives is:Friendship of Allah\")"
   ]
  },
  {
   "cell_type": "markdown",
   "id": "7007e2f0-9080-4fa2-8c19-b9010dffee4d",
   "metadata": {},
   "source": [
    "### Example 2:print the following information on screen:\n",
    "Your Name\n",
    "\n",
    "Your age\n",
    "\n",
    "Your marks in Fsc(in persentage)"
   ]
  },
  {
   "cell_type": "code",
   "execution_count": 1,
   "id": "a65b9469-0bdc-4b28-8b50-b8a1702d3e61",
   "metadata": {},
   "outputs": [
    {
     "name": "stdout",
     "output_type": "stream",
     "text": [
      "Usfa Sohail\n",
      "19 years\n",
      "89%\n"
     ]
    }
   ],
   "source": [
    "print(\"Usfa Sohail\")\n",
    "print(\"19 years\")\n",
    "print(\"89%\")"
   ]
  },
  {
   "cell_type": "markdown",
   "id": "8e481c7c-d074-407f-abbb-adef24be5e6d",
   "metadata": {},
   "source": [
    "### Example 3:print the following information about your city:\n",
    "Name\n",
    "\n",
    "Population\n",
    "\n",
    "Famous for \n",
    "\n",
    "Geographic area in kilometers"
   ]
  },
  {
   "cell_type": "code",
   "execution_count": 5,
   "id": "7ce89bc7-7b53-4de8-be98-1db3e319a476",
   "metadata": {},
   "outputs": [
    {
     "name": "stdout",
     "output_type": "stream",
     "text": [
      "Lahore\n",
      "14.4 million people\n",
      "Cultural Heritage\n",
      "1772 sq kilometers\n"
     ]
    }
   ],
   "source": [
    "print(\"Lahore\")\n",
    "print(\"14.4 million people\")\n",
    "print(\"Cultural Heritage\")\n",
    "print(\"1772 sq kilometers\")"
   ]
  },
  {
   "cell_type": "markdown",
   "id": "4fbf8407-b776-4d02-8e02-22f8738a51ff",
   "metadata": {},
   "source": [
    "# Your Turn:\n",
    "### Example 1:print the names of all subjects in first semester"
   ]
  },
  {
   "cell_type": "code",
   "execution_count": 2,
   "id": "5a55c90d-e495-4220-974e-8302d7aad930",
   "metadata": {},
   "outputs": [
    {
     "name": "stdout",
     "output_type": "stream",
     "text": [
      "Functional English\n",
      "Programming fundamentals\n",
      "AICT\n",
      "Islamiat\n",
      "Physics\n"
     ]
    }
   ],
   "source": [
    "print(\"Functional English\")\n",
    "print(\"Programming fundamentals\")\n",
    "print(\"AICT\")\n",
    "print(\"Islamiat\")\n",
    "print(\"Physics\")"
   ]
  },
  {
   "cell_type": "markdown",
   "id": "e8a78f50-2bc7-499d-8548-e298f7f405a6",
   "metadata": {},
   "source": [
    "### Example 2:print the provinces of pakistan"
   ]
  },
  {
   "cell_type": "code",
   "execution_count": 3,
   "id": "8eb3327e-dccc-4407-87ef-238177903692",
   "metadata": {},
   "outputs": [
    {
     "name": "stdout",
     "output_type": "stream",
     "text": [
      "Punjab\n",
      "Sindh\n",
      "KPK\n",
      "Balochistan\n"
     ]
    }
   ],
   "source": [
    "print(\"Punjab\")\n",
    "print(\"Sindh\")\n",
    "print(\"KPK\")\n",
    "print(\"Balochistan\")"
   ]
  },
  {
   "cell_type": "markdown",
   "id": "29832893-f6e6-4fcd-a69b-9d402f408fdd",
   "metadata": {},
   "source": [
    "### Example 3:print 4 fruits name"
   ]
  },
  {
   "cell_type": "code",
   "execution_count": 8,
   "id": "709fe1ed-b5cd-4c5c-acb6-6718ae2e318d",
   "metadata": {},
   "outputs": [
    {
     "name": "stdout",
     "output_type": "stream",
     "text": [
      "Apple,Mango,Banana,Orange\n"
     ]
    }
   ],
   "source": [
    "print(\"Apple,Mango,Banana,Orange\")"
   ]
  },
  {
   "cell_type": "markdown",
   "id": "0ca3f3a9-95fd-40bc-8a48-5c4ee8383be6",
   "metadata": {},
   "source": [
    "## To Do Task 3:\n",
    "### Example 1:Use single line and multi line comment in your program for the following attributes\n",
    "### Developer name \n",
    "### Developer email id\n",
    "### python IDE\n",
    "### Program name\n",
    "### program version\n",
    "### start date\n",
    "### end date"
   ]
  },
  {
   "cell_type": "code",
   "execution_count": 2,
   "id": "f1799934-ed79-41bf-bc79-6ebef50a16f3",
   "metadata": {},
   "outputs": [
    {
     "name": "stdout",
     "output_type": "stream",
     "text": [
      "Rao Muhammad Adeel Nawab\n",
      "abcg786@gmail.com\n",
      "jupyter Notebook\n",
      "Use of comments\n",
      "python 3\n",
      "9/7/2024\n",
      "9/7/2024\n"
     ]
    }
   ],
   "source": [
    "print(\"Rao Muhammad Adeel Nawab\") #Developer name\n",
    "print(\"abcg786@gmail.com\") #Developer email id\n",
    "print(\"jupyter Notebook\") #python IDE\n",
    "print(\"Use of comments\") #program name\n",
    "print(\"python 3\") #program using version\n",
    "print(\"9/7/2024\") #start date\n",
    "print(\"9/7/2024\") #end date"
   ]
  },
  {
   "cell_type": "markdown",
   "id": "75813e87-6a06-41cf-8d57-91fef1bc00aa",
   "metadata": {},
   "source": [
    "## Your Turn:\n",
    "### Three programs with single and multi line comments\n",
    "### Example 1:"
   ]
  },
  {
   "cell_type": "code",
   "execution_count": 3,
   "id": "d01dc862-612f-4c87-97b5-f7dff9c02cb8",
   "metadata": {},
   "outputs": [
    {
     "name": "stdout",
     "output_type": "stream",
     "text": [
      "Value after adding both numbers is: 16\n"
     ]
    }
   ],
   "source": [
    "a=12\n",
    "b=4\n",
    "c=a+b #adding two numbers and assigning value to c\n",
    "print(\"Value after adding both numbers is:\",c) #displaying the value of c"
   ]
  },
  {
   "cell_type": "markdown",
   "id": "f0f6030e-1b0c-4f42-b85a-eaee81fef690",
   "metadata": {},
   "source": [
    "### Example 2:"
   ]
  },
  {
   "cell_type": "code",
   "execution_count": 5,
   "id": "3b28fb02-72eb-4ca8-a0f8-344fee5cfd9c",
   "metadata": {},
   "outputs": [
    {
     "name": "stdout",
     "output_type": "stream",
     "text": [
      "My name is Usfa Sohail\n",
      "My age  is 19\n"
     ]
    }
   ],
   "source": [
    "name=\"Usfa Sohail\" #assigning string value to name variable\n",
    "age=19 #assigning value to age variable\n",
    "print(\"My name is\",name) #printing name \n",
    "print(\"My age  is\",age) #printing age"
   ]
  },
  {
   "cell_type": "markdown",
   "id": "b528bcc4-ce6b-4365-a1a4-abdcea5c8fe9",
   "metadata": {},
   "source": [
    "### Example 3:"
   ]
  },
  {
   "cell_type": "code",
   "execution_count": 6,
   "id": "cb25a3f3-f37e-4e59-8c25-b9e1a409ce2d",
   "metadata": {},
   "outputs": [
    {
     "name": "stdout",
     "output_type": "stream",
     "text": [
      "Product of two numbers is: 24\n"
     ]
    }
   ],
   "source": [
    "\"\"\" This program multiplies two numbers with each other.\n",
    "It also stores the result of both the numbers and then display its result.\"\"\"\n",
    "num1=4\n",
    "num2=6\n",
    "product=num1*num2 #product obtaining by multiplying two numbers and storing it in variable name product\n",
    "print(\"Product of two numbers is:\",product)"
   ]
  },
  {
   "cell_type": "markdown",
   "id": "e8fa49c3-bc3e-4aa4-b944-ae0a1ecbf44e",
   "metadata": {},
   "source": [
    "## To Do Task 3:\n",
    "### Example 1: Create variables to store your demographic information like:\n",
    "### Name\n",
    "### Gender\n",
    "### age\n",
    "### intrest\n",
    "### Hobby\n",
    "### Address"
   ]
  },
  {
   "cell_type": "code",
   "execution_count": 7,
   "id": "71cc919e-d163-414b-a23a-8a9261541139",
   "metadata": {},
   "outputs": [
    {
     "name": "stdout",
     "output_type": "stream",
     "text": [
      "Name: Usfa SOhail\n",
      "Gender: Female\n",
      "age: 19\n",
      "Mine intrest: coding\n",
      "My hobby is: Reading newspaper\n",
      "My address: 389 A2 township Lahore\n"
     ]
    }
   ],
   "source": [
    "name=\"Usfa SOhail\"\n",
    "gender=\"Female\"\n",
    "age=19\n",
    "intrest=\"coding\"\n",
    "hobby=\"Reading newspaper\"\n",
    "address=\"389 A2 township Lahore\"\n",
    "print(\"Name:\",name)\n",
    "print(\"Gender:\",gender)\n",
    "print(\"age:\",age)\n",
    "print(\"Mine intrest:\",intrest)\n",
    "print(\"My hobby is:\",hobby)\n",
    "print(\"My address:\",address)"
   ]
  },
  {
   "cell_type": "markdown",
   "id": "bf8da8f2-18c6-4730-93f8-bb1a30034030",
   "metadata": {},
   "source": [
    "### Your Turn:"
   ]
  },
  {
   "cell_type": "code",
   "execution_count": 8,
   "id": "f6899437-d8c8-4b98-a2e4-44f45e24e7af",
   "metadata": {},
   "outputs": [
    {
     "name": "stdout",
     "output_type": "stream",
     "text": [
      "<class 'float'>\n",
      "<class 'int'>\n",
      "<class 'str'>\n"
     ]
    }
   ],
   "source": [
    "a=3.4\n",
    "b=19\n",
    "c=\"apple\"\n",
    "print(type(a))\n",
    "print(type(b))\n",
    "print(type(c))"
   ]
  },
  {
   "cell_type": "markdown",
   "id": "5943cf86-fe93-43ad-b328-4d9d7147895f",
   "metadata": {},
   "source": [
    "## To Do Task 4:\n",
    "### Example:write result of the folllowing expressions\n",
    "### 1) 15//3%2+5-2*5\n",
    "### 2) 15//(3%2)+(5-2)*5\n",
    "### 3) 15/3%2+5-2**3"
   ]
  },
  {
   "cell_type": "code",
   "execution_count": 2,
   "id": "2cc90149-3e60-47f3-969f-489eaa8021d5",
   "metadata": {},
   "outputs": [
    {
     "name": "stdout",
     "output_type": "stream",
     "text": [
      "Result of first equation= -4\n",
      "Result of second equation= 30\n",
      "Result of third equation= -2.0\n"
     ]
    }
   ],
   "source": [
    "result1=15//3%2+5-2*5\n",
    "result2=15//(3%2)+(5-2)*5\n",
    "result3=15/3%2+5-2**3\n",
    "print(\"Result of first equation=\",result1)\n",
    "print(\"Result of second equation=\",result2)\n",
    "print(\"Result of third equation=\",result3)"
   ]
  },
  {
   "cell_type": "markdown",
   "id": "1ce2f3ec-a1b8-48f3-b0ea-85bf93a9539f",
   "metadata": {},
   "source": [
    "## Your Turn:\n",
    "### Write down different arithmetic equation and write down there results"
   ]
  },
  {
   "cell_type": "code",
   "execution_count": 5,
   "id": "34b5e1ba-7078-496d-b251-c12bf5657f91",
   "metadata": {},
   "outputs": [
    {
     "name": "stdout",
     "output_type": "stream",
     "text": [
      "Result of first equation= -7\n",
      "Result of second equation= -7.5\n",
      "Result of third equation= 2\n"
     ]
    }
   ],
   "source": [
    "result1=(10+20)//5%3*2-7\n",
    "result2=25/(4%3+1)-(3+2)*4\n",
    "result3=18//3%4+6-6\n",
    "print(\"Result of first equation=\",result1)\n",
    "print(\"Result of second equation=\",result2)\n",
    "print(\"Result of third equation=\",result3)"
   ]
  },
  {
   "cell_type": "markdown",
   "id": "a6f7b8a0-1112-4301-ae86-cd99af552283",
   "metadata": {},
   "source": [
    "## To Do Task 5:\n",
    "### Write pseudocode of following programs:\n",
    "### 1) Multiplying three numbers\n",
    "### 2) finding area of a circle\n",
    "### 3) finding square of a number"
   ]
  },
  {
   "cell_type": "markdown",
   "id": "47b02b1d-0bc0-4146-b1f5-c39d2a968e90",
   "metadata": {},
   "source": [
    "## Pseudocode of multiplying three numbers:"
   ]
  },
  {
   "cell_type": "raw",
   "id": "74a3b8da-c83e-45b3-9830-0e42e33d2fd5",
   "metadata": {},
   "source": [
    "**Start**\n",
    "**declare**three int variables:number1,number2,number3\n",
    "**prompt**the user to enter the first number:\"Enter the first number:\"\n",
    "**read**the user input and store it in number1\n",
    "**prompt**the user to enter the first number:\"Enter the second number:\"\n",
    "**read**the user input and store it in number2\n",
    "**prompt**the user to enter the first number:\"Enter the third number:\"\n",
    "**read**the user input and store it in number3\n",
    "**calculate**product:product=number1*number2*number3\n",
    "**print**product:\"The product=\"+product\n",
    "**end**"
   ]
  },
  {
   "cell_type": "markdown",
   "id": "52844314-6b41-4c88-92b0-61bd7941106d",
   "metadata": {},
   "source": [
    "## Pseudocode of finding area of circle"
   ]
  },
  {
   "cell_type": "raw",
   "id": "bb6d2b2d-58d7-498e-a7e1-f2b8efeb565b",
   "metadata": {},
   "source": [
    "**Start**\n",
    "**declare**one float variable:radius\n",
    "**prompt**the user to enter the value of radius:\"Enter radius:\"\n",
    "**read**the user input and store in radius\n",
    "**set**pi=3.14\n",
    "**calculate**area:area=pi*radius*radius\n",
    "**print**area:\"The area=\"+area\n",
    "**end**"
   ]
  },
  {
   "cell_type": "markdown",
   "id": "158e8aaf-1391-4c06-b66a-a5b18a4fff80",
   "metadata": {},
   "source": [
    "## Pseudocode to find square of a number"
   ]
  },
  {
   "cell_type": "raw",
   "id": "46b40519-59ab-4fc2-b616-ef30a87869fd",
   "metadata": {},
   "source": [
    "**start**\n",
    "**declare**one int variable:number\n",
    "**prompt**the user to enter the value of number:\"Enter number:\"\n",
    "**read**the user input and store in number\n",
    "**calculate**square:square=number*number\n",
    "**print**square:\"The square=\"+square\n",
    "**end**"
   ]
  },
  {
   "cell_type": "markdown",
   "id": "19c43022-418a-478b-80a9-9531d07b5bb4",
   "metadata": {},
   "source": [
    "## Your Turn:\n",
    "# Pseudocode to find cube of a number"
   ]
  },
  {
   "cell_type": "raw",
   "id": "84c5a562-1800-44c4-a95c-3100c8b35b30",
   "metadata": {},
   "source": [
    "**start**\n",
    "**declare**one int variable:number\n",
    "**prompt**the user to enter the value of number:\"Enter number:\"\n",
    "**read**the user input and store in number\n",
    "**calculate**cube:cube=number*number*number\n",
    "**print**cube:\"The cube=\"+square\n",
    "**end**"
   ]
  },
  {
   "cell_type": "markdown",
   "id": "2c4a8057-51f2-4b2c-81a6-f5f499936ff3",
   "metadata": {},
   "source": [
    "## TO DO Task:\n",
    "## Using template based approch\n",
    "## Example 1:Multiplication of three numbers"
   ]
  },
  {
   "cell_type": "markdown",
   "id": "edc5afb1-8d2d-4aad-ac2e-6728c7f98dc1",
   "metadata": {},
   "source": [
    "### Step 1:real word scenario:\n",
    "program for multiplication of three numbers\n",
    "### Step 2:client requirement\n",
    "simple program that multiplies three integer type numbers\n",
    "### Step 3:input-processing-output\n",
    "### input:\n",
    "No of inputs=3\n",
    "Data types:integer\n",
    "### instruction:\n",
    "multiply\n",
    "### processing:\n",
    "number1 * number2 * number3\n",
    "### Output:\n",
    "No of output:1\n",
    "Data type:integer"
   ]
  },
  {
   "cell_type": "markdown",
   "id": "473ca970-c512-4cc9-9904-4c1f91c34f18",
   "metadata": {},
   "source": [
    "### Step 4: Pseudocode"
   ]
  },
  {
   "cell_type": "raw",
   "id": "e7c4a6c6-ed7d-4fa3-988d-c31647136f1a",
   "metadata": {},
   "source": [
    "**Start**\n",
    "**declare**three int variables:number1,number2,number3\n",
    "**prompt**the user to enter the first number:\"Enter the first number:\"\n",
    "**read**the user input and store it in number1\n",
    "**prompt**the user to enter the first number:\"Enter the second number:\"\n",
    "**read**the user input and store it in number2\n",
    "**prompt**the user to enter the first number:\"Enter the third number:\"\n",
    "**read**the user input and store it in number3\n",
    "**calculate**product:product=number1*number2*number3\n",
    "**print**product:\"The product=\"+product\n",
    "**end**"
   ]
  },
  {
   "cell_type": "markdown",
   "id": "d1d9a49d-d20c-4902-92db-ce2241ee93fb",
   "metadata": {},
   "source": [
    "### Step 5:Flowchart drawn"
   ]
  },
  {
   "cell_type": "markdown",
   "id": "0b7c9db1-fcd5-4b65-9785-2347b4f61602",
   "metadata": {},
   "source": [
    "### Step 6: Suitable programming language,machine,ide\n",
    "Programming language:Python\n",
    "\n",
    "IDE:jupyter notebook\n",
    "\n",
    "Operating system:windows 11\n",
    "\n",
    "machine:i7\n",
    "### Step 7:Developer information\n",
    "Programmer name:Usfa Sohail\n",
    "\n",
    "Id:usfasohail389@gmail.com\n",
    "\n",
    "machine:i7\n",
    "\n",
    "program name:multiplication of three numbers"
   ]
  },
  {
   "cell_type": "markdown",
   "id": "601fcc59-c6a0-4484-8fba-3014bf466121",
   "metadata": {},
   "source": [
    "### Step 8+9:Convert pseudocode in code and test that code\n",
    "### Data for testing the code:\n",
    "number1=5\n",
    "\n",
    "number2=7\n",
    "\n",
    "number3=2"
   ]
  },
  {
   "cell_type": "code",
   "execution_count": 9,
   "id": "3e7fba17-a7e0-45fc-8dc1-55f316ca0bf7",
   "metadata": {},
   "outputs": [
    {
     "name": "stdin",
     "output_type": "stream",
     "text": [
      "Enter the first number: 5\n",
      "Enter the second number: 7\n",
      "Enter the third number: 2\n"
     ]
    },
    {
     "name": "stdout",
     "output_type": "stream",
     "text": [
      "The product= 70\n"
     ]
    }
   ],
   "source": [
    "#input\n",
    "number1=int(input(\"Enter the first number:\")) #Taking first number as an int\n",
    "number2=int(input(\"Enter the second number:\")) #Taking second number as an int\n",
    "number3=int(input(\"Enter the third number:\")) #Taking third number as an int \n",
    "product=number1*number2*number3 #Calculating product\n",
    "print(\"The product=\",product) #displaying product of three numbers"
   ]
  },
  {
   "cell_type": "markdown",
   "id": "8cab86fe-be66-4c98-acc9-f60549ef5309",
   "metadata": {},
   "source": [
    "### Step 10: Output of code:\n",
    "The product=70"
   ]
  },
  {
   "cell_type": "markdown",
   "id": "f4765fe5-fbf7-43e0-8cc5-28a549c58185",
   "metadata": {},
   "source": [
    "## Example 2:Calculate square of a number"
   ]
  },
  {
   "cell_type": "markdown",
   "id": "f091c658-ea95-4405-8407-9e6c5beb839d",
   "metadata": {},
   "source": [
    "### Step 1:real word scenario:\n",
    "program for calculating square of a number\n",
    "### Step 2:client requirement\n",
    "simple program that find square of a integer type number\n",
    "### Step 3:input-processing-output\n",
    "### input:\n",
    "No of inputs=1\n",
    "Data types:integer\n",
    "### instruction:\n",
    "multiply\n",
    "### processing:\n",
    "number*number\n",
    "### Output:\n",
    "No of output:1\n",
    "Data type:integer"
   ]
  },
  {
   "cell_type": "markdown",
   "id": "d2a15848-abd9-4844-a6ea-fc481bfb0c72",
   "metadata": {},
   "source": [
    "### Step 4: Pseudocode"
   ]
  },
  {
   "cell_type": "raw",
   "id": "f93da6a3-9d04-4997-a37b-acdfc109151b",
   "metadata": {},
   "source": [
    "**start**\n",
    "**declare**one int variable:number\n",
    "**prompt**the user to enter the value of number:\"Enter number:\"\n",
    "**read**the user input and store in number\n",
    "**calculate**square:square=number*number\n",
    "**print**square:\"The square=\"+square\n",
    "**end**"
   ]
  },
  {
   "cell_type": "markdown",
   "id": "bba7c3ba-0c35-4de6-aebf-3b8f98b66203",
   "metadata": {},
   "source": [
    "### Step 5:Flowchart drawn"
   ]
  },
  {
   "cell_type": "markdown",
   "id": "c96e6cbe-b5c3-4ffb-9af8-10457f6c4bc7",
   "metadata": {},
   "source": [
    "### Step 6: Suitable programming language,machine,ide\n",
    "Programming language:Python\n",
    "\n",
    "IDE:jupyter notebook\n",
    "\n",
    "Operating system:windows 11\n",
    "\n",
    "machine:i7\n",
    "### Step 7:Developer information\n",
    "Programmer name:Usfa Sohail\n",
    "\n",
    "Id:usfasohail389@gmail.com\n",
    "\n",
    "machine:i7\n",
    "\n",
    "program name:To find square of a number"
   ]
  },
  {
   "cell_type": "markdown",
   "id": "2c25f84e-eb73-4c52-8aa5-bbd721f5cae9",
   "metadata": {},
   "source": [
    "### Step 8+9:Convert pseudocode code into code and test that code\n",
    "### Data for testing the code:\n",
    "number=5"
   ]
  },
  {
   "cell_type": "code",
   "execution_count": 2,
   "id": "72c256c0-ae6c-4391-99d9-5718100f15fc",
   "metadata": {},
   "outputs": [
    {
     "name": "stdin",
     "output_type": "stream",
     "text": [
      "Enter number: 5\n"
     ]
    },
    {
     "name": "stdout",
     "output_type": "stream",
     "text": [
      "The square= 25\n"
     ]
    }
   ],
   "source": [
    "#input\n",
    "number=int(input(\"Enter number:\")) #Taking int number as a input from user\n",
    "square=number*number\n",
    "print(\"The square=\",square)"
   ]
  },
  {
   "cell_type": "markdown",
   "id": "bbf2c60b-7627-4f57-8153-d66682acc5dc",
   "metadata": {},
   "source": [
    "### Step 10: Output of code:\n",
    "The square=25"
   ]
  },
  {
   "cell_type": "markdown",
   "id": "352fe695-43ed-4631-b1a1-8a6d8c0e0d0c",
   "metadata": {},
   "source": [
    "## Example 3:Find area of a circle\n",
    "### Step 1:real word scenario:\n",
    "program for finding area of a circle\n",
    "### Step 2:client requirement\n",
    "simple program that finds area of a circle\n",
    "### Step 3:input-processing-output\n",
    "### input:\n",
    "No of inputs=1\n",
    "\n",
    "Data types:float\n",
    "### instruction:\n",
    "multiply\n",
    "### processing:\n",
    "pi* radius* radius\n",
    "### Output:\n",
    "No of output:1\n",
    "\n",
    "Data type:float"
   ]
  },
  {
   "cell_type": "markdown",
   "id": "94e667d1-b7b4-4ebe-ab30-6aee271d4fbd",
   "metadata": {},
   "source": [
    "### Step 4:Pseudocode"
   ]
  },
  {
   "cell_type": "raw",
   "id": "24db6245-7847-4da2-912c-d40f20dd818e",
   "metadata": {},
   "source": [
    "**Start**\n",
    "**declare**one float variable:radius\n",
    "**prompt**the user to enter the value of radius:\"Enter radius:\"\n",
    "**read**the user input and store in radius\n",
    "**set**pi=3.14\n",
    "**calculate**area:area=pi*radius*radius\n",
    "**print**area:\"The area=\"+area\n",
    "**end**"
   ]
  },
  {
   "cell_type": "markdown",
   "id": "50b4c965-1d18-47f2-bb6c-b7f6ebb06c7a",
   "metadata": {},
   "source": [
    "### Step 5: Flow chart drawn"
   ]
  },
  {
   "cell_type": "markdown",
   "id": "c20a32d8-1370-492e-aa3d-ac05ee42b276",
   "metadata": {},
   "source": [
    "### Step 6: Suitable programming language,machine,ide\n",
    "Programming language:Python\n",
    "\n",
    "IDE:jupyter notebook\n",
    "\n",
    "Operating system:windows 11\n",
    "\n",
    "machine:i7\n",
    "### Step 7:Developer information\n",
    "Programmer name:Usfa Sohail\n",
    "\n",
    "Id:usfasohail389@gmail.com\n",
    "\n",
    "machine:i7\n",
    "\n",
    "program name:To find area of a circle"
   ]
  },
  {
   "cell_type": "markdown",
   "id": "688be0fc-8f56-42d0-b676-9ba4d10eb4c2",
   "metadata": {},
   "source": [
    "### Step 8+9:Pseudocode inton  code and testing of code\n",
    "### Data for testing of code:\n",
    "radius=7.8"
   ]
  },
  {
   "cell_type": "code",
   "execution_count": 11,
   "id": "cda72b25-d589-4800-acbe-21fa36eed6cd",
   "metadata": {},
   "outputs": [
    {
     "name": "stdin",
     "output_type": "stream",
     "text": [
      "Enter radius: 7.8\n"
     ]
    },
    {
     "name": "stdout",
     "output_type": "stream",
     "text": [
      "The area= 191.0376\n"
     ]
    }
   ],
   "source": [
    "#input\n",
    "radius=float(input(\"Enter radius:\")) #Taking radius as an input of float datatype\n",
    "pi=3.14 #setting pi to 3.14\n",
    "area=pi*radius*radius #calulating area\n",
    "print(\"The area=\",area) #printing area of a circle"
   ]
  },
  {
   "cell_type": "markdown",
   "id": "685634e1-0228-4791-9e06-4be9c5515169",
   "metadata": {},
   "source": [
    "## Step 10:Output of code\n",
    "The area=191.0376"
   ]
  },
  {
   "cell_type": "markdown",
   "id": "30e8dc5f-8146-4d3b-ab9c-97143d414712",
   "metadata": {},
   "source": [
    "## Example 4:Print a two digit number in reverse order\n",
    "### Step 1:real word scenario:\n",
    "program to print a two digit number in reverse order\n",
    "### Step 2:client requirement\n",
    "simple program that prints the two two digit number in reverse order\n",
    "### Step 3:input-processing-output\n",
    "### input:\n",
    "No of inputs=1\n",
    "\n",
    "Data types:int\n",
    "### instruction:\n",
    "division,mod\n",
    "### processing:\n",
    "first_digit=number//10\n",
    "\n",
    "second_digit=number%10\n",
    "### Output:\n",
    "No of output:1\n",
    "\n",
    "Data type:int"
   ]
  },
  {
   "cell_type": "markdown",
   "id": "d5964685-98cb-42c8-8291-8aa9aa1861ba",
   "metadata": {},
   "source": [
    "### Step 4:Pseudocode"
   ]
  },
  {
   "cell_type": "raw",
   "id": "3c9cd144-e4fd-4950-b217-05c006031443",
   "metadata": {},
   "source": [
    "**start**\n",
    "**declare** three int variable:number,first_digit,second_digit\n",
    "**prompt**the user to enter the value of number:\"Enter two digit number:\"\n",
    "**read**the user input and store it in number\n",
    "**set**first_digit:first_digit=number//10\n",
    "**set**second_digit:second_digit=number%10\n",
    "**print**:(second_digit*10)+first_digit\n",
    "**end**"
   ]
  },
  {
   "cell_type": "markdown",
   "id": "e670a15c-8737-4983-ad0e-d0f037579fcc",
   "metadata": {},
   "source": [
    "### Step 5: Flowchart drawn\n",
    "### Step 6: Suitable programming language,machine,ide\n",
    "Programming language:Python\n",
    "\n",
    "IDE:jupyter notebook\n",
    "\n",
    "Operating system:windows 11\n",
    "\n",
    "machine:i7\n",
    "### Step 7:Developer information\n",
    "Programmer name:Usfa Sohail\n",
    "\n",
    "Id:usfasohail389@gmail.com\n",
    "\n",
    "machine:i7\n",
    "\n",
    "program name:To print two digit number in reverse order"
   ]
  },
  {
   "cell_type": "markdown",
   "id": "ac96a384-4892-4275-9866-45642f3cf4b1",
   "metadata": {},
   "source": [
    "### Step 8+9:Pseudocode into code and testing of that code\n",
    "### Data for testing of code:\n",
    "number=25"
   ]
  },
  {
   "cell_type": "code",
   "execution_count": 15,
   "id": "df507a03-67de-4260-8f53-f7e54aba3145",
   "metadata": {},
   "outputs": [
    {
     "name": "stdin",
     "output_type": "stream",
     "text": [
      "Enter two digit number: 25\n"
     ]
    },
    {
     "name": "stdout",
     "output_type": "stream",
     "text": [
      "52\n"
     ]
    }
   ],
   "source": [
    "#input\n",
    "number=int(input(\"Enter two digit number:\")) #Taking number as an int datatype\n",
    "first_digit=number//10 #Calulating first digit from number\n",
    "second_digit=number%10 #calculating second digit from number\n",
    "print((second_digit*10)+first_digit)"
   ]
  },
  {
   "cell_type": "markdown",
   "id": "6842802b-b8b6-4f71-ad1f-4f02bf9682fb",
   "metadata": {},
   "source": [
    "### Step 10:Output of code:\n",
    "52"
   ]
  },
  {
   "cell_type": "markdown",
   "id": "530de8e3-2fea-44b4-9e45-fca335ba1eec",
   "metadata": {},
   "source": [
    "## Example 5:printing three digit number in reverse order\n",
    "### Step 1:real word scenario:\n",
    "program to print a three digit number in reverse order\n",
    "### Step 2:client requirement\n",
    "simple program that prints the three digit number in reverse order\n",
    "### Step 3:input-processing-output\n",
    "### input:\n",
    "No of inputs=1\n",
    "\n",
    "Data types:int\n",
    "### instruction:\n",
    "division,mod\n",
    "### processing:\n",
    "first_digit=number//100\n",
    "\n",
    "second_digit=(number//10)%10\n",
    "\n",
    "third_digit=number%10\n",
    "\n",
    "### Output:\n",
    "No of output:1\n",
    "\n",
    "Data type:int"
   ]
  },
  {
   "cell_type": "markdown",
   "id": "a6b29e4c-bd77-4578-892d-10ee8d466a50",
   "metadata": {},
   "source": [
    "### Step 4:Pseudocode"
   ]
  },
  {
   "cell_type": "raw",
   "id": "379f0392-8890-4e62-897c-ca369bee587f",
   "metadata": {},
   "source": [
    "**start**\n",
    "**declare** four int variable:number,first_digit,second_digit,third\n",
    "**prompt**the user to enter the value of number:\"Enter three digit number:\"\n",
    "**read**the user input and store it in number\n",
    "**set**first_digit:first_digit=number///100\n",
    "**set**second_digit:second_digit=(number//10)%10\n",
    "**set**third_digit:third_digit=number%10\n",
    "**print**:(third_digit*100)+(second_digit*10)+first_digit\n",
    "**end**"
   ]
  },
  {
   "cell_type": "markdown",
   "id": "d3fb571f-d32e-4a8b-86ce-82c8f3f434b5",
   "metadata": {},
   "source": [
    "### Step 5:Flowchart drawn"
   ]
  },
  {
   "cell_type": "markdown",
   "id": "bf994b4f-60e6-4e10-9fe9-3128d9535a78",
   "metadata": {},
   "source": [
    "### Step 6: Suitable programming language,machine,ide\n",
    "Programming language:Python\n",
    "\n",
    "IDE:jupyter notebook\n",
    "\n",
    "Operating system:windows 11\n",
    "\n",
    "machine:i7\n",
    "### Step 7:Developer information\n",
    "Programmer name:Usfa Sohail\n",
    "\n",
    "Id:usfasohail389@gmail.com\n",
    "\n",
    "machine:i7\n",
    "\n",
    "program name:To print three digit number in reverse order"
   ]
  },
  {
   "cell_type": "markdown",
   "id": "54bd9c21-ddc3-40dc-b878-d9f5d0e7dd5d",
   "metadata": {},
   "source": [
    "### Step 8+9:Pseudocode into code and testing of code\n",
    "### Data for testing of code\n",
    "number=678"
   ]
  },
  {
   "cell_type": "code",
   "execution_count": 18,
   "id": "5c514a5b-2a86-4788-9be0-f46e745ca6c6",
   "metadata": {},
   "outputs": [
    {
     "name": "stdin",
     "output_type": "stream",
     "text": [
      "Enter three digit number: 678\n"
     ]
    },
    {
     "name": "stdout",
     "output_type": "stream",
     "text": [
      "876\n"
     ]
    }
   ],
   "source": [
    "#input\n",
    "number=int(input(\"Enter three digit number:\")) #Taking input three digit number as an int datatype\n",
    "first_digit=number//100 #calculating first digit\n",
    "second_digit=(number//10)%10 #calculating second digit\n",
    "third_digit=number%10 #calculating third digit\n",
    "#output\n",
    "print((third_digit*100)+(second_digit*10)+first_digit) #displaying number in reverse order"
   ]
  },
  {
   "cell_type": "markdown",
   "id": "2df8ff17-1076-4c8a-97b4-143219de2612",
   "metadata": {},
   "source": [
    "### Step 10: Output of a code:\n",
    "876"
   ]
  },
  {
   "cell_type": "markdown",
   "id": "cd282973-b368-474b-9128-7266b50a5770",
   "metadata": {},
   "source": [
    "## Your Turn:\n",
    "## Find cube of a number"
   ]
  },
  {
   "cell_type": "markdown",
   "id": "40528bd7-015f-4b89-920c-429cd000d5b5",
   "metadata": {},
   "source": [
    "### Step 1:real word scenario:\n",
    "program for calculating cube of a number\n",
    "### Step 2:client requirement\n",
    "simple program that find cube of a integer type number\n",
    "### Step 3:input-processing-output\n",
    "### input:\n",
    "No of inputs=1\n",
    "Data types:integer\n",
    "### instruction:\n",
    "multiply\n",
    "### processing:\n",
    "number * number * number\n",
    "### Output:\n",
    "No of output:1\n",
    "Data type:integer\n",
    "### Step 4: Pseudocode"
   ]
  },
  {
   "cell_type": "raw",
   "id": "bdd7fd8d-7218-4529-b7eb-4198352565a8",
   "metadata": {},
   "source": [
    "**start**\n",
    "**declare**one int variable:number\n",
    "**prompt**the user to enter the value of number:\"Enter number:\"\n",
    "**read**the user input and store in number\n",
    "**calculate**cube:cube=number*number*number\n",
    "**print**cube:\"The cube=\"+cube\n",
    "**end**"
   ]
  },
  {
   "cell_type": "markdown",
   "id": "7ef4f8c9-ae04-454a-bb8e-e48b5a5c81b9",
   "metadata": {},
   "source": [
    "### Step 5:Flowchart drawn\n",
    "### Step 6: Suitable programming language,machine,ide\n",
    "Programming language:Python\n",
    "\n",
    "IDE:jupyter notebook\n",
    "\n",
    "Operating system:windows 11\n",
    "\n",
    "machine:i7\n",
    "### Step 7:Developer information\n",
    "Programmer name:Usfa Sohail\n",
    "\n",
    "Id:usfasohail389@gmail.com\n",
    "\n",
    "machine:i7\n",
    "\n",
    "program name:To find cube of a number\n",
    "### Step 8+9:Convert pseudocode code into code and test that code\n",
    "### Data for testing the code:\n",
    "number=5"
   ]
  },
  {
   "cell_type": "code",
   "execution_count": 1,
   "id": "5e585374-af39-4f2a-95b8-c6d28a14ec94",
   "metadata": {},
   "outputs": [
    {
     "name": "stdin",
     "output_type": "stream",
     "text": [
      "Enter number: 5\n"
     ]
    },
    {
     "name": "stdout",
     "output_type": "stream",
     "text": [
      "The cube= 125\n"
     ]
    }
   ],
   "source": [
    "#input\n",
    "number=int(input(\"Enter number:\")) #Taking int number as a input from user\n",
    "cube=number*number*number\n",
    "print(\"The cube=\",cube)"
   ]
  },
  {
   "cell_type": "markdown",
   "id": "932b624f-1875-475a-a6c3-719bf76a08a0",
   "metadata": {},
   "source": [
    "### Step 10: Output of code:\n",
    "The square=25"
   ]
  },
  {
   "cell_type": "markdown",
   "id": "29706fc1-ed2e-471d-9df3-4b0488e3c136",
   "metadata": {},
   "source": [
    "# TO DO Task:\n",
    "## Take input from user as an integer and tell its negative or positive number or zero\n",
    "### Step 1:real word scenario:\n",
    "program to find that number is negative positive or zero\n",
    "### Step 2:client requirement\n",
    "simple program that finds that number is negative positive or zero\n",
    "### Step 3:input-processing-output\n",
    "### input:\n",
    "No of inputs=1\n",
    "Data types:integer\n",
    "### instruction:\n",
    "comparision\n",
    "### processing:\n",
    "num>0\n",
    "num<0\n",
    "num==0\n",
    "### Output:\n",
    "No of output:1\n",
    "Data type:string\n",
    "### Step 4: Pseudocode"
   ]
  },
  {
   "cell_type": "raw",
   "id": "32178031-31a0-4f3e-b442-4ce624945b7d",
   "metadata": {},
   "source": [
    "**start**\n",
    "**declare**one int type variable:num\n",
    "**prompt**the user to enter the value of number:\"Enter the value\"\n",
    "**read**value from the user and store in num variable\n",
    "**if**num==0 then**print**\"Number is zero\"\n",
    "**if**num>0 then **print**\"Number is positive\"\n",
    "**if**num<0 then **print**\"Number is negative\"\n",
    "**end**"
   ]
  },
  {
   "cell_type": "markdown",
   "id": "5f53cf88-dda7-4288-9785-9874bb72eac0",
   "metadata": {},
   "source": [
    "### Step 5:Flowchart drawn\n",
    "### Step 6: Suitable programming language,machine,ide\n",
    "Programming language:Python\n",
    "\n",
    "IDE:jupyter notebook\n",
    "\n",
    "Operating system:windows 11\n",
    "\n",
    "machine:i7\n",
    "### Step 7:Developer information\n",
    "Programmer name:Usfa Sohail\n",
    "\n",
    "Id:usfasohail389@gmail.com\n",
    "\n",
    "machine:i7\n",
    "\n",
    "program name:To find that number is neg pos or zero\n",
    "### Step 8+9:Convert pseudocode code into code and test that code\n",
    "### Data for testing the code:\n",
    "number=5"
   ]
  },
  {
   "cell_type": "code",
   "execution_count": 1,
   "id": "7b4413bf-942f-42f1-8cad-6b04227da3ef",
   "metadata": {},
   "outputs": [
    {
     "name": "stdin",
     "output_type": "stream",
     "text": [
      "Enter the value: 5\n"
     ]
    },
    {
     "name": "stdout",
     "output_type": "stream",
     "text": [
      "Number is positive\n"
     ]
    }
   ],
   "source": [
    "#input\n",
    "num=int(input(\"Enter the value:\"))#taking input as int and storing in num variable\n",
    "if num==0:#comparing the number with zero\n",
    "    print(\"Number is zero\")#printing prompt\n",
    "if num<0:#comparing number\n",
    "    print(\"Number is negative\")#printing prompt\n",
    "if num>0:#comparing number\n",
    "    print(\"Number is positive\")#printing prompt"
   ]
  },
  {
   "cell_type": "markdown",
   "id": "73eee16b-fd4a-49b7-bcfe-e52e31441dae",
   "metadata": {},
   "source": [
    "### Output of program\n",
    "Number is positive"
   ]
  },
  {
   "cell_type": "markdown",
   "id": "87498485-806f-4923-8cab-b4e28627af27",
   "metadata": {},
   "source": [
    "# TO DO Task:\n",
    "## Find that person is elegible for vote or not\n",
    "### Step 1:real word scenario:\n",
    "program to find that person is eligible for vote or not\n",
    "### Step 2:client requirement\n",
    "simple program that finds that person is eligible for vote or not\n",
    "### Step 3:input-processing-output\n",
    "### input:\n",
    "No of inputs=1\n",
    "Data types:integer\n",
    "### instruction:\n",
    "comparision\n",
    "### processing:\n",
    "age>18\n",
    "age<18\n",
    "### Output:\n",
    "No of output:1\n",
    "Data type:string\n",
    "### Step 4: Pseudocode"
   ]
  },
  {
   "cell_type": "raw",
   "id": "e9e10147-0957-4799-aafb-482a735d8a64",
   "metadata": {},
   "source": [
    "**start**\n",
    "**declare**one variable of int type:age\n",
    "**prompt**user to enter value and store it in age variable:\"Enter age:\"\n",
    "**if** age<18 then **print**\"Not eligible for vote\"\n",
    "**if** age>18 then **print**\"Eligible for vote\"\n",
    "**end**"
   ]
  },
  {
   "cell_type": "markdown",
   "id": "62f07dd5-26ac-48ac-a7c5-dedb8fd70d22",
   "metadata": {},
   "source": [
    "### Step 5:Flowchart drawn\n",
    "### Step 6: Suitable programming language,machine,ide\n",
    "Programming language:Python\n",
    "\n",
    "IDE:jupyter notebook\n",
    "\n",
    "Operating system:windows 11\n",
    "\n",
    "machine:i7\n",
    "### Step 7:Developer information\n",
    "Programmer name:Usfa Sohail\n",
    "\n",
    "Id:usfasohail389@gmail.com\n",
    "\n",
    "machine:i7\n",
    "\n",
    "program name:To find that person is elegible for vote or not\n",
    "### Step 8+9:Convert pseudocode code into code and test that code\n",
    "### Data for testing the code:\n",
    "number=19"
   ]
  },
  {
   "cell_type": "code",
   "execution_count": 2,
   "id": "d98f63d9-3ee7-4f5d-a692-19d5592590b5",
   "metadata": {},
   "outputs": [
    {
     "name": "stdin",
     "output_type": "stream",
     "text": [
      "Enter age: 19\n"
     ]
    },
    {
     "name": "stdout",
     "output_type": "stream",
     "text": [
      "Eligible for vote\n"
     ]
    }
   ],
   "source": [
    "#input\n",
    "age=int(input(\"Enter age:\"))#taking value from user and storing it in age variable\n",
    "if age<18:#comparing value of age\n",
    "    print(\"Not eligible for vote\")#printing the prompt\n",
    "if age>18:#comparing value of age\n",
    "    print(\"Eligible for vote\")#printing the prompt"
   ]
  },
  {
   "cell_type": "markdown",
   "id": "839b76a9-dc3d-4a4a-ae84-b124d79d9059",
   "metadata": {},
   "source": [
    "### Output of program\n",
    "Eligible for vote"
   ]
  },
  {
   "cell_type": "markdown",
   "id": "d1460bd0-7c23-4435-b460-eead8ca3697d",
   "metadata": {},
   "source": [
    "# TO DO Task:\n",
    "## Program that takes input the length of hairs and determines the person is male or female\n",
    "### Step 1:real word scenario:\n",
    "program to find that person is male or female\n",
    "### Step 2:client requirement\n",
    "simple program that finds that person is male or female\n",
    "### Step 3:input-processing-output\n",
    "### input:\n",
    "No of inputs=1\n",
    "Data types:float\n",
    "### instruction:\n",
    "comparision\n",
    "### processing:\n",
    "length>6\n",
    "### Output:\n",
    "No of output:1\n",
    "Data type:string\n",
    "### Step 4: Pseudocode"
   ]
  },
  {
   "cell_type": "raw",
   "id": "b0356f74-9408-4ea8-9a32-ef11394de3ed",
   "metadata": {},
   "source": [
    "**start**\n",
    "**declare** one variable of float type:length\n",
    "**prompt**user to enter the length of hairs:\"Enter the length of hairs in inches\"\n",
    "**read**the value from user and store it in variable length\n",
    "**if** length>6 then **print**\"Person is female\"\n",
    "**else** print \"Person is male\"\n",
    "**end**"
   ]
  },
  {
   "cell_type": "markdown",
   "id": "d6d88844-4389-4d8b-8a26-863e5c10490b",
   "metadata": {},
   "source": [
    "### Step 5:Flowchart drawn\n",
    "### Step 6: Suitable programming language,machine,ide\n",
    "Programming language:Python\n",
    "\n",
    "IDE:jupyter notebook\n",
    "\n",
    "Operating system:windows 11\n",
    "\n",
    "machine:i7\n",
    "### Step 7:Developer information\n",
    "Programmer name:Usfa Sohail\n",
    "\n",
    "Id:usfasohail389@gmail.com\n",
    "\n",
    "machine:i7\n",
    "\n",
    "program name:To find that person is male or female\n",
    "### Step 8+9:Convert pseudocode code into code and test that code\n",
    "### Data for testing the code:\n",
    "number=5"
   ]
  },
  {
   "cell_type": "code",
   "execution_count": 3,
   "id": "2f308765-d8b7-43de-8979-b3ac270c39db",
   "metadata": {},
   "outputs": [
    {
     "name": "stdin",
     "output_type": "stream",
     "text": [
      "Enter length of hairs in inches: 5\n"
     ]
    },
    {
     "name": "stdout",
     "output_type": "stream",
     "text": [
      "Person is male\n"
     ]
    }
   ],
   "source": [
    "#input\n",
    "length=float(input(\"Enter length of hairs in inches:\"))#taking input from user and saving it in length variable\n",
    "if length>6:\n",
    "    print(\"Person is female\")\n",
    "else:\n",
    "    print(\"Person is male\")"
   ]
  },
  {
   "cell_type": "markdown",
   "id": "d4d647b6-73de-4192-8762-b70a853a273b",
   "metadata": {},
   "source": [
    "### Step 10\n",
    "### output of program\n",
    "Person is male"
   ]
  },
  {
   "cell_type": "markdown",
   "id": "903145da-bec5-432c-8444-67269b7721a8",
   "metadata": {},
   "source": [
    "# TO DO Task:\n",
    "## Program that take input the age of a person and clarifies it in different categories that are:child,teenager,adult,senior\n",
    "### Step 1:real word scenario:\n",
    "program to find the group category of a person\n",
    "### Step 2:client requirement\n",
    "simple program that finds the group category of a person\n",
    "### Step 3:input-processing-output\n",
    "### input:\n",
    "No of inputs=1\n",
    "Data types:int\n",
    "### instruction:\n",
    "logical comparision\n",
    "### processing:\n",
    "age>=0 and age<=12\n",
    "\n",
    "age>=13 and age<=19\n",
    "\n",
    "age>=20 and age<=64\n",
    "\n",
    "age>=65\n",
    "### Output:\n",
    "No of output:1\n",
    "Data type:string\n",
    "### Step 4: Pseudocode"
   ]
  },
  {
   "cell_type": "raw",
   "id": "fd239364-6361-44c2-9b8f-434349ec8c98",
   "metadata": {},
   "source": [
    "**start**\n",
    "**declare**one variable of int type:age\n",
    "**prompt**user to enter the value of age:\"Enter value of age:\"\n",
    "**read**value from the user and store it in age variable\n",
    "**if** age>=0 and age<=12 then **print**\"Child\"\n",
    "**elif** age>=13 and age<=19 then **print**\"Teenager\n",
    "**elif** age>=20 and age<=64 then **print**\"Adult\"\n",
    "**elif** age>=65 then **print**\"Senior\"\n",
    "**end**"
   ]
  },
  {
   "cell_type": "markdown",
   "id": "2db67e34-6962-45bd-b50f-b4cf0606e751",
   "metadata": {},
   "source": [
    "### Step 5:Flowchart drawn\n",
    "### Step 6: Suitable programming language,machine,ide\n",
    "Programming language:Python\n",
    "\n",
    "IDE:jupyter notebook\n",
    "\n",
    "Operating system:windows 11\n",
    "\n",
    "machine:i7\n",
    "### Step 7:Developer information\n",
    "Programmer name:Usfa Sohail\n",
    "\n",
    "Id:usfasohail389@gmail.com\n",
    "\n",
    "machine:i7\n",
    "\n",
    "program name:To find that person falls in which category\n",
    "### Step 8+9:Convert pseudocode code into code and test that code\n",
    "### Data for testing the code:\n",
    "number=28"
   ]
  },
  {
   "cell_type": "code",
   "execution_count": 4,
   "id": "d96e4ff3-6ab2-42e2-8645-762e594a8abb",
   "metadata": {},
   "outputs": [
    {
     "name": "stdin",
     "output_type": "stream",
     "text": [
      "Enter age: 28\n"
     ]
    },
    {
     "name": "stdout",
     "output_type": "stream",
     "text": [
      "Adult\n"
     ]
    }
   ],
   "source": [
    "#input\n",
    "age=int(input(\"Enter age:\"))#taking age as input from user and store it in age variable\n",
    "if age>=13 and age<=19:\n",
    "    print(\"Child\")\n",
    "elif age>=13 and age<=19:\n",
    "    print(\"Teenager\")\n",
    "elif age>=20 and age<=64:\n",
    "    print(\"Adult\")\n",
    "elif age>=65:\n",
    "    print(\"Senior\")"
   ]
  },
  {
   "cell_type": "markdown",
   "id": "036206c9-bfc7-4502-8eff-21c76660cea9",
   "metadata": {},
   "source": [
    "### Output of program\n",
    "Adult"
   ]
  },
  {
   "cell_type": "markdown",
   "id": "c1d6b2c7-91ca-4c58-ade2-6374c3bd566f",
   "metadata": {},
   "source": [
    "# TO DO Task:\n",
    "## Program that takes five number as an input from the user and prints the largest number\n",
    "### Step 1:real word scenario:\n",
    "program to find the largest number from five numbers\n",
    "### Step 2:client requirement\n",
    "simple program that finds the larget number\n",
    "### Step 3:input-processing-output\n",
    "### input:\n",
    "No of inputs=5\n",
    "Data types:(int,int,int,int,int)\n",
    "### instruction:\n",
    "comparision\n",
    "### processing:\n",
    "n1>n2\n",
    "\n",
    "n2>n3\n",
    "\n",
    "n3>n4\n",
    "\n",
    "n4>n5\n",
    "### Output:\n",
    "No of output:1\n",
    "Data type:string\n",
    "### Step 4: Pseudocode"
   ]
  },
  {
   "cell_type": "raw",
   "id": "6d32743b-9d20-4e0a-9c4b-fb7cbeb0b75e",
   "metadata": {},
   "source": [
    "**start**\n",
    "**declare** six variables of int type:n1,n2,n3,n4,n5,largest\n",
    "**prompt** user to enter all the values of five variables one by one\n",
    "**read** the values and store them in corresponding variables\n",
    "**let** largest=n1\n",
    "**if** n2>largest then **let** largest=n2\n",
    "**if** n3>largest then **let** largest=n3\n",
    "**if** n4>largest then **let** largest=n4\n",
    "**if** n5>largest then **let** largest=n5\n",
    "**print** \"Largest number is:\"+largest\n",
    "**end**"
   ]
  },
  {
   "cell_type": "markdown",
   "id": "aa41ef0c-ec83-43b2-96c3-5470588a0cb0",
   "metadata": {},
   "source": [
    "### Step 5:Flowchart drawn\n",
    "### Step 6: Suitable programming language,machine,ide\n",
    "Programming language:Python\n",
    "\n",
    "IDE:jupyter notebook\n",
    "\n",
    "Operating system:windows 11\n",
    "\n",
    "machine:i7\n",
    "### Step 7:Developer information\n",
    "Programmer name:Usfa Sohail\n",
    "\n",
    "Id:usfasohail389@gmail.com\n",
    "\n",
    "machine:i7\n",
    "\n",
    "program name:To find which number is largest\n",
    "### Step 8+9:Convert pseudocode code into code and test that code\n",
    "### Data for testing the code:\n",
    "n1=3\n",
    "\n",
    "n2=1\n",
    "\n",
    "n3=9\n",
    "\n",
    "n4=6\n",
    "\n",
    "n5=0"
   ]
  },
  {
   "cell_type": "code",
   "execution_count": 6,
   "id": "59649784-63bb-4b23-96f1-d0998033fb7a",
   "metadata": {},
   "outputs": [
    {
     "name": "stdin",
     "output_type": "stream",
     "text": [
      "Enter first number: 3\n",
      "Enter second number: 1\n",
      "Enter third number: 9\n",
      "Enter fourth number: 6\n",
      "Enter fifth number: 0\n"
     ]
    },
    {
     "name": "stdout",
     "output_type": "stream",
     "text": [
      "Largest number is: 9\n"
     ]
    }
   ],
   "source": [
    "#input\n",
    "n1=int(input(\"Enter first number:\"))#Taking first number\n",
    "n2=int(input(\"Enter second number:\"))#Taking second number\n",
    "n3=int(input(\"Enter third number:\"))#Taking third number\n",
    "n4=int(input(\"Enter fourth number:\"))#Taking fourth number\n",
    "n5=int(input(\"Enter fifth number:\"))#Taking fifth number\n",
    "largest=n1#setting largest to n1\n",
    "if n2>largest:#comparing largest and n2\n",
    "    largest=n2\n",
    "if n3>largest:#comparing largest and n3\n",
    "    largest=n3\n",
    "if n4>largest:#comparing largest and n4\n",
    "    largest=n4\n",
    "if n5>largest:#comparing largest and n5\n",
    "    largest=n5\n",
    "print(\"Largest number is:\",largest)"
   ]
  },
  {
   "cell_type": "markdown",
   "id": "29e35be1-51a0-4c08-8781-d3f24e3be2e5",
   "metadata": {},
   "source": [
    "### Step 10:\n",
    "### Output of program\n",
    "Largest number is:9"
   ]
  },
  {
   "cell_type": "markdown",
   "id": "53dfd29e-a818-4672-9aef-c7f121215755",
   "metadata": {},
   "source": [
    "# TO DO Task:\n",
    "## Program that take three sides of triangle as an input and tell whether the triangle is equilateral issosceles and scalene\n",
    "### Step 1:real word scenario:\n",
    "program to find the type of a triqangle\n",
    "### Step 2:client requirement\n",
    "simple program that finds the type of az triangle\n",
    "### Step 3:input-processing-output\n",
    "### input:\n",
    "No of inputs=3\n",
    "Data types:(int,int,int)\n",
    "### instruction:\n",
    "comparision\n",
    "### processing:\n",
    "side1 == side2 == side3\n",
    "\n",
    "side1 == side2 or side1 == side3 or side2 == side3\n",
    "### Output:\n",
    "No of output:1\n",
    "Data type:string\n",
    "### Step 4: Pseudocode"
   ]
  },
  {
   "cell_type": "raw",
   "id": "b992dbc0-e95d-4985-85b5-65f9b8a83e62",
   "metadata": {},
   "source": [
    "**start**\n",
    "**declare** three variables of int type:side1,side2,side3\n",
    "**prompt** the user to enter the values of these variables\n",
    "**read** the values and store them in corresspondings variables\n",
    "**if** side1 == side2 == side3 then **print**\"The triangle is equilateral.\"\n",
    "**if** side1 == side2 or side1 == side3 or side2 == side3 then **print**\"The triangle is isosceles.\"\n",
    "**else** print\"The triangle is scalene.\"\n",
    "**end**"
   ]
  },
  {
   "cell_type": "markdown",
   "id": "3f8b479c-cfc4-40eb-81ac-d71ccfc78055",
   "metadata": {},
   "source": [
    "### Step 5:Flowchart drawn\n",
    "### Step 6: Suitable programming language,machine,ide\n",
    "Programming language:Python\n",
    "\n",
    "IDE:jupyter notebook\n",
    "\n",
    "Operating system:windows 11\n",
    "\n",
    "machine:i7\n",
    "### Step 7:Developer information\n",
    "Programmer name:Usfa Sohail\n",
    "\n",
    "Id:usfasohail389@gmail.com\n",
    "\n",
    "machine:i7\n",
    "\n",
    "program name:To find the type of a triangle\n",
    "### Step 8+9:Convert pseudocode code into code and test that code\n",
    "### Data for testing the code:\n",
    "side1=5\n",
    "\n",
    "side2=5\n",
    "\n",
    "side3=8"
   ]
  },
  {
   "cell_type": "code",
   "execution_count": 7,
   "id": "3275be2e-8f7d-44c5-bbd0-efc24d7aa433",
   "metadata": {},
   "outputs": [
    {
     "name": "stdin",
     "output_type": "stream",
     "text": [
      "Enter side1 of a triangle: 5\n",
      "Enter side2 of a triangle: 5\n",
      "Enter side3 of a triangle: 8\n"
     ]
    },
    {
     "name": "stdout",
     "output_type": "stream",
     "text": [
      "The triangle is isosceles.\n"
     ]
    }
   ],
   "source": [
    "#input\n",
    "side1=int(input(\"Enter side1 of a triangle:\"))\n",
    "side2=int(input(\"Enter side2 of a triangle:\"))\n",
    "side3=int(input(\"Enter side3 of a triangle:\"))\n",
    "if side1 == side2 == side3:\n",
    "    print(\"The triangle is equilateral.\")\n",
    "elif side1 == side2 or side1 == side3 or side2 == side3:\n",
    "    print(\"The triangle is isosceles.\")\n",
    "else:\n",
    "    print(\"The triangle is scalene.\")"
   ]
  },
  {
   "cell_type": "markdown",
   "id": "27c86f06-9e67-407f-bc26-960a4b5fce43",
   "metadata": {},
   "source": [
    "### Step 10\n",
    "### Output of a program\n",
    "The triangle is isosceles"
   ]
  },
  {
   "cell_type": "markdown",
   "id": "bea966f1-2091-422a-ba61-e669104d4f30",
   "metadata": {},
   "source": [
    "# TO DO Task:\n",
    "## Program to find leap year\n",
    "### Step 1:real word scenario:\n",
    "program to find that year is leap or not\n",
    "### Step 2:client requirement\n",
    "simple program that finds the year is leap or not\n",
    "### Step 3:input-processing-output\n",
    "### input:\n",
    "No of inputs=1\n",
    "Data types:int\n",
    "### instruction:\n",
    "mod\n",
    "### processing:\n",
    "year%400\n",
    "\n",
    "year%100\n",
    "\n",
    "year%4\n",
    "### Output:\n",
    "No of output:1\n",
    "Data type:string\n",
    "### Step 4: Pseudocode"
   ]
  },
  {
   "cell_type": "raw",
   "id": "54f99f9e-21d9-42b6-8225-85928b228b3b",
   "metadata": {},
   "source": [
    "**start**\n",
    "**declare**one variable of int type:year\n",
    "**prompt**the user to enter the year:\"Enter the year:\"\n",
    "**read**the value from the user and stmore it in year variable\n",
    "**if**year%400==0 then **print** \"Its a leap year\"\n",
    "**elif**year%100==0 then **print** \"Its not a leap year\n",
    "**elif**year%4==0 then **print** \"Its a leap year\"\n",
    "**else** then **print** \"Its not a leap year\"\n",
    "**end**"
   ]
  },
  {
   "cell_type": "markdown",
   "id": "f303a7a9-299f-4053-ad20-8ac5361ef24f",
   "metadata": {},
   "source": [
    "### Step 5:Flowchart drawn\n",
    "### Step 6: Suitable programming language,machine,ide\n",
    "Programming language:Python\n",
    "\n",
    "IDE:jupyter notebook\n",
    "\n",
    "Operating system:windows 11\n",
    "\n",
    "machine:i7\n",
    "### Step 7:Developer information\n",
    "Programmer name:Usfa Sohail\n",
    "\n",
    "Id:usfasohail389@gmail.com\n",
    "\n",
    "machine:i7\n",
    "\n",
    "program name:To find that year is leap or not\n",
    "### Step 8+9:Convert pseudocode code into code and test that code\n",
    "### Data for testing the code:\n",
    "2024"
   ]
  },
  {
   "cell_type": "code",
   "execution_count": 2,
   "id": "086fa81b-19e8-4ac0-82d4-a542f36603b1",
   "metadata": {},
   "outputs": [
    {
     "name": "stdin",
     "output_type": "stream",
     "text": [
      "Enter the year: 2024\n"
     ]
    },
    {
     "name": "stdout",
     "output_type": "stream",
     "text": [
      "It is a leap year\n"
     ]
    }
   ],
   "source": [
    "#input\n",
    "year=int(input(\"Enter the year:\"))#taking year as an input\n",
    "if(year%400==0):#checking condition\n",
    "    print(\"It is a leap year\")\n",
    "else:\n",
    "    if(year%100==0):#checking condition\n",
    "        print(\"It is not a leap year\")\n",
    "    else:\n",
    "        if(year%4==0):#checking condition\n",
    "            print(\"It is a leap year\")\n",
    "        else:\n",
    "            print(\"It is not a leap year\")"
   ]
  },
  {
   "cell_type": "markdown",
   "id": "a13670df-ef1d-4398-a7bc-124e54621890",
   "metadata": {},
   "source": [
    "### Step 10:\n",
    "### Output of program\n",
    "It is a leap year"
   ]
  },
  {
   "cell_type": "markdown",
   "id": "15385835-83ed-40de-a18f-26ddb6aeb4a2",
   "metadata": {},
   "source": [
    "# Your Turn:\n",
    "## Program to find the grade\n",
    "### Step 1:real word scenario:\n",
    "program to find the grade\n",
    "### Step 2:client requirement\n",
    "simple program that finds grade\n",
    "### Step 3:input-processing-output\n",
    "### input:\n",
    "No of inputs=1\n",
    "Data types:float\n",
    "### instruction:\n",
    "comparision\n",
    "### processing:\n",
    "number>=90\n",
    "\n",
    "number>=80\n",
    "\n",
    "number>=70\n",
    "\n",
    "number>=60\n",
    "### Output:\n",
    "No of output:1\n",
    "Data type:string\n",
    "### Step 4: Pseudocode"
   ]
  },
  {
   "cell_type": "raw",
   "id": "a84b278f-4901-47a4-8ea5-c64f58376ef7",
   "metadata": {},
   "source": [
    "**start** \n",
    "**declare** one variable of float type and one of string type:number,grade\n",
    "**prompt** the user to enter the marks:\"Enter your marks:\"\n",
    "**read** input from the user and store it in number variable\n",
    "**if** number>=90 then **Let** grade=A\n",
    "**elif** number>=80 then **Let** grade=B\n",
    "**elif** number>=70 then **Let** grade=C\n",
    "**elif** number>=60 then **Let** grade=D\n",
    "**else** let grade=F\n",
    "**print** \"Your grade is:\"+grade\n",
    "**end**"
   ]
  },
  {
   "cell_type": "markdown",
   "id": "5675cceb-6a28-4218-8931-d4688659db15",
   "metadata": {},
   "source": [
    "### Step 5:Flowchart drawn\n",
    "### Step 6: Suitable programming language,machine,ide\n",
    "Programming language:Python\n",
    "\n",
    "IDE:jupyter notebook\n",
    "\n",
    "Operating system:windows 11\n",
    "\n",
    "machine:i7\n",
    "### Step 7:Developer information\n",
    "Programmer name:Usfa Sohail\n",
    "\n",
    "Id:usfasohail389@gmail.com\n",
    "\n",
    "machine:i7\n",
    "\n",
    "program name:To find the grade\n",
    "### Step 8+9:Convert pseudocode code into code and test that code\n",
    "### Data for testing the code:\n",
    "75"
   ]
  },
  {
   "cell_type": "code",
   "execution_count": 3,
   "id": "619dcb80-5cdc-4db2-9b7d-a1188ba5bdd5",
   "metadata": {},
   "outputs": [
    {
     "name": "stdin",
     "output_type": "stream",
     "text": [
      "Enter your marks: 75\n"
     ]
    },
    {
     "name": "stdout",
     "output_type": "stream",
     "text": [
      "Your grade is: C\n"
     ]
    }
   ],
   "source": [
    "#input\n",
    "number=float(input(\"Enter your marks:\"))\n",
    "if number>=90:\n",
    "    grade=\"A\"\n",
    "elif number>=80:\n",
    "    grade=\"B\"\n",
    "elif number>=70:\n",
    "    grade=\"C\"\n",
    "elif number>=60:\n",
    "    grade=\"D\"\n",
    "else:\n",
    "    grade=\"F\"\n",
    "print(\"Your grade is:\",grade)"
   ]
  },
  {
   "cell_type": "markdown",
   "id": "4535f001-4f27-4aa5-8697-0e75302124c0",
   "metadata": {},
   "source": [
    "### Step 10\n",
    "### Output of the program\n",
    "Your grade is:C"
   ]
  },
  {
   "cell_type": "markdown",
   "id": "257b138c-8afd-40ad-ad71-9e1948f8987a",
   "metadata": {},
   "source": [
    "# TO DO Task:\n",
    "## Program that prints first 50 even numbers on output screen\n",
    "### Step 1:real word scenario:\n",
    "program that prints first 50 even numbers on screen\n",
    "### Step 2:client requirement\n",
    "simple program that prints first 50 even numbers\n",
    "### Step 3:input-processing-output\n",
    "### input:\n",
    "No of inputs=0\n",
    "### instruction:\n",
    "comparision\n",
    "### processing:\n",
    "count<50\n",
    "### Output:\n",
    "No of output:50\n",
    "Data type:int\n",
    "### Step 4: Pseudocode"
   ]
  },
  {
   "cell_type": "raw",
   "id": "95c1161a-beb9-4299-a4f2-2e5fb788f1b1",
   "metadata": {},
   "source": [
    "**start**\n",
    "**let** count=0 and number=2\n",
    "**while loop starts** till count<50\n",
    "**then** prints number \n",
    "**let** number+=2 and count+=1\n",
    "**while loop ends**\n",
    "**end**"
   ]
  },
  {
   "cell_type": "markdown",
   "id": "77a24810-bd70-408c-b9e1-61bf08204197",
   "metadata": {},
   "source": [
    "### Step 5:Flowchart drawn\n",
    "### Step 6: Suitable programming language,machine,ide\n",
    "Programming language:Python\n",
    "\n",
    "IDE:jupyter notebook\n",
    "\n",
    "Operating system:windows 11\n",
    "\n",
    "machine:i7\n",
    "### Step 7:Developer information\n",
    "Programmer name:Usfa Sohail\n",
    "\n",
    "Id:usfasohail389@gmail.com\n",
    "\n",
    "machine:i7\n",
    "\n",
    "program name:That prints first 50 even numbers\n",
    "### Step 8+9:Convert pseudocode code into code and test that code\n",
    "### Data for testing the code:\n",
    "no data needed"
   ]
  },
  {
   "cell_type": "code",
   "execution_count": 4,
   "id": "18a969c9-6b7c-4640-be98-6a1fdfecf14c",
   "metadata": {},
   "outputs": [
    {
     "name": "stdout",
     "output_type": "stream",
     "text": [
      "2\n",
      "4\n",
      "6\n",
      "8\n",
      "10\n",
      "12\n",
      "14\n",
      "16\n",
      "18\n",
      "20\n",
      "22\n",
      "24\n",
      "26\n",
      "28\n",
      "30\n",
      "32\n",
      "34\n",
      "36\n",
      "38\n",
      "40\n",
      "42\n",
      "44\n",
      "46\n",
      "48\n",
      "50\n",
      "52\n",
      "54\n",
      "56\n",
      "58\n",
      "60\n",
      "62\n",
      "64\n",
      "66\n",
      "68\n",
      "70\n",
      "72\n",
      "74\n",
      "76\n",
      "78\n",
      "80\n",
      "82\n",
      "84\n",
      "86\n",
      "88\n",
      "90\n",
      "92\n",
      "94\n",
      "96\n",
      "98\n",
      "100\n"
     ]
    }
   ],
   "source": [
    "count=0\n",
    "number=2\n",
    "while count < 50:\n",
    "    print(number)\n",
    "    number+=2\n",
    "    count+=1"
   ]
  },
  {
   "cell_type": "markdown",
   "id": "e42e82a7-72a6-42ed-9305-92131667c4d8",
   "metadata": {},
   "source": [
    "### Step 10\n",
    "### output of program\n",
    "2\n",
    "4\n",
    "6\n",
    "8\n",
    "10\n",
    "12\n",
    "14\n",
    "16\n",
    "18\n",
    "20\n",
    "22\n",
    "24\n",
    "26\n",
    "28\n",
    "30\n",
    "32\n",
    "34\n",
    "36\n",
    "38\n",
    "40\n",
    "42\n",
    "44\n",
    "46\n",
    "48\n",
    "50\n",
    "52\n",
    "54\n",
    "56\n",
    "58\n",
    "60\n",
    "62\n",
    "64\n",
    "66\n",
    "68\n",
    "70\n",
    "72\n",
    "74\n",
    "76\n",
    "78\n",
    "80\n",
    "82\n",
    "84\n",
    "86\n",
    "88\n",
    "90\n",
    "92\n",
    "94\n",
    "96\n",
    "98\n",
    "100"
   ]
  },
  {
   "cell_type": "markdown",
   "id": "489a992b-5f70-44c1-b45b-590f035b2eed",
   "metadata": {},
   "source": [
    "# TO DO Task:\n",
    "## Program that take a number from the user as an input and prints its table on the screen\n",
    "### Step 1:real word scenario:\n",
    "program that prints the table of a number on the screen\n",
    "### Step 2:client requirement\n",
    "simple program that prints the table of a number on the screen\n",
    "### Step 3:input-processing-output\n",
    "### input:\n",
    "No of inputs=1\n",
    "Data type of input:int\n",
    "### instruction:\n",
    "multiply\n",
    "### processing:\n",
    "number*i\n",
    "### Output:\n",
    "No of output:10\n",
    "Data type:int\n",
    "### Step 4: Pseudocode"
   ]
  },
  {
   "cell_type": "raw",
   "id": "8db1c51f-f0c1-4315-a8c9-bf1ecbc81e34",
   "metadata": {},
   "source": [
    "**start**\n",
    "**declare**one variable of int data type:number\n",
    "**prompt** the user to enter the number: \"Enter the number:\"\n",
    "**read** the value from the user and store it in variable\n",
    "**start for loop** where itteration of i starts from 1 and end untill i is less then 11\n",
    "**print** number*i=(number*i)\n",
    "**for loop ends**\n",
    "**end**"
   ]
  },
  {
   "cell_type": "markdown",
   "id": "292f1f5f-9133-43f1-ac1a-8e023577fc17",
   "metadata": {},
   "source": [
    "### Step 5:Flowchart drawn\n",
    "### Step 6: Suitable programming language,machine,ide\n",
    "Programming language:Python\n",
    "\n",
    "IDE:jupyter notebook\n",
    "\n",
    "Operating system:windows 11\n",
    "\n",
    "machine:i7\n",
    "### Step 7:Developer information\n",
    "Programmer name:Usfa Sohail\n",
    "\n",
    "Id:usfasohail389@gmail.com\n",
    "\n",
    "machine:i7\n",
    "\n",
    "program name:That prints the table of a number\n",
    "### Step 8+9:Convert pseudocode code into code and test that code\n",
    "### Data for testing the code:\n",
    "number=5"
   ]
  },
  {
   "cell_type": "code",
   "execution_count": 3,
   "id": "c789d773-88f5-41cd-bc5a-ed76cd6f7ce3",
   "metadata": {},
   "outputs": [
    {
     "name": "stdin",
     "output_type": "stream",
     "text": [
      "Enter a number:  5\n"
     ]
    },
    {
     "name": "stdout",
     "output_type": "stream",
     "text": [
      "5 * 1 = 5\n",
      "5 * 2 = 10\n",
      "5 * 3 = 15\n",
      "5 * 4 = 20\n",
      "5 * 5 = 25\n",
      "5 * 6 = 30\n",
      "5 * 7 = 35\n",
      "5 * 8 = 40\n",
      "5 * 9 = 45\n",
      "5 * 10 = 50\n"
     ]
    }
   ],
   "source": [
    "number=int(input(\"Enter a number: \"))\n",
    "for i in range(1, 11):\n",
    "    print(f\"{number} * {i} = {number * i}\")"
   ]
  },
  {
   "cell_type": "markdown",
   "id": "56952f66-f090-4b82-af51-91d3c93116dc",
   "metadata": {},
   "source": [
    "### Step 10\n",
    "### Output of the program\n",
    "Enter a number:  5\n",
    "5 * 1 = 5\n",
    "5 * 2 = 10\n",
    "5 * 3 = 15\n",
    "5 * 4 = 20\n",
    "5 * 5 = 25\n",
    "5 * 6 = 30\n",
    "5 * 7 = 35\n",
    "5 * 8 = 40\n",
    "5 * 9 = 45\n",
    "5 * 10 = 50"
   ]
  },
  {
   "cell_type": "markdown",
   "id": "45d6baac-813e-4c4f-9f7a-fc1c6201022a",
   "metadata": {},
   "source": [
    "### TO DO Task:\n",
    "### Program that take input from the user the number,lower bound, and upper bound and prints the table of the number from lower bound to the upper bound\n",
    "### Step 1:real word scenario:\n",
    "program that prints the table from lower bound till upper bound\n",
    "### Step 2:client requirement\n",
    "simple program that prints table from lower bound till upper bound\n",
    "### Step 3:input-processing-output\n",
    "### input:\n",
    "No of inputs=3\n",
    "\n",
    "\n",
    "Data type:int\n",
    "### instruction:\n",
    "multiplication\n",
    "### processing:\n",
    "number*i\n",
    "### Output:\n",
    "No of output:depends on lower and upper bound\n",
    "\n",
    "\n",
    "Data type:int\n",
    "### Step 4: Pseudocode"
   ]
  },
  {
   "cell_type": "raw",
   "id": "283fe4e1-9863-43b7-8f9b-0b3fc965b2b2",
   "metadata": {},
   "source": [
    "**start**\n",
    "**declare** three variables of int type:number,lower_bound,upper_bound\n",
    "**prompt** the user to enter the values of all the variables\n",
    "**read** and store the values to the variables\n",
    "**start for loop** where the itteration of i starts from lower bound and end when i is less or equal to upper bound\n",
    "**print** number*i=(number*i)\n",
    "**for loop ends**\n",
    "**end**"
   ]
  },
  {
   "cell_type": "markdown",
   "id": "f68d5026-b84e-4fc9-bb6e-e6c909b71249",
   "metadata": {},
   "source": [
    "### Step 5:Flowchart drawn\n",
    "### Step 6: Suitable programming language,machine,ide\n",
    "Programming language:Python\n",
    "\n",
    "IDE:jupyter notebook\n",
    "\n",
    "Operating system:windows 11\n",
    "\n",
    "machine:i7\n",
    "### Step 7:Developer information\n",
    "Programmer name:Usfa Sohail\n",
    "\n",
    "Id:usfasohail389@gmail.com\n",
    "\n",
    "machine:i7\n",
    "\n",
    "program name:That prints the table of a number from lower bound till upper bound\n",
    "### Step 8+9:Convert pseudocode code into code and test that code\n",
    "### Data for testing the code:\n",
    "number=5\n",
    "\n",
    "\n",
    "lower_bound=4\n",
    "\n",
    "\n",
    "upper_bound=7"
   ]
  },
  {
   "cell_type": "code",
   "execution_count": 2,
   "id": "f05658a0-7c5c-4cb3-adb0-feaca23babb7",
   "metadata": {},
   "outputs": [
    {
     "name": "stdin",
     "output_type": "stream",
     "text": [
      "Enter a number:  5\n",
      "Enter lower bound:  4\n",
      "Enter upper bound:  7\n"
     ]
    },
    {
     "name": "stdout",
     "output_type": "stream",
     "text": [
      "5 * 4 = 20\n",
      "5 * 5 = 25\n",
      "5 * 6 = 30\n",
      "5 * 7 = 35\n"
     ]
    }
   ],
   "source": [
    "number=int(input(\"Enter a number: \"))\n",
    "lower_bound=int(input(\"Enter lower bound: \"))\n",
    "upper_bound=int(input(\"Enter upper bound: \"))\n",
    "for i in range(lower_bound, upper_bound + 1):\n",
    "    print(f\"{number} * {i} = {number * i}\")"
   ]
  },
  {
   "cell_type": "markdown",
   "id": "9103b863-945b-4e04-b09f-0ff7c25b31b8",
   "metadata": {},
   "source": [
    "# TO DO Task:\n",
    "## Program that is user driven and that perform task that we have done previously\n",
    "### Step 1:real word scenario:\n",
    "program that is user driven\n",
    "### Step 2:client requirement\n",
    "simple program that is user driven\n",
    "### Step 3:input-processing-output\n",
    "### input:\n",
    "No of inputs=depending upon the user what they choose\n",
    "### instruction:\n",
    "comparision,multiplication\n",
    "### processing:\n",
    "number*i,comparision\n",
    "### Output:\n",
    "No of output:depends on user what program they choose\n",
    "### Step 4: Pseudocode"
   ]
  },
  {
   "cell_type": "raw",
   "id": "6b321fd6-c2e9-4a4a-be9a-511049102cea",
   "metadata": {},
   "source": [
    "**start**\n",
    "**declare** one int type variable:choice\n",
    "**prompt** user:\"Press 1 if you want to print table or press 2 for printing first 50 even numbers or press 3 to exit program\n",
    "**read** and store value in choice variable\n",
    "**if** choice==1 then:\n",
    "                **declare**one variable of int data type:number\n",
    "                **prompt** the user to enter the number: \"Enter the number:\"\n",
    "                **read** the value from the user and store it in variable\n",
    "                **start for loop** where itteration of i starts from 1 and end untill i is less then 11\n",
    "                **print** number*i=(number*i)\n",
    "                **for loop ends**\n",
    "**if** choice==2 then:\n",
    "                **let** count=0 and number=2\n",
    "                **while loop starts** till count<50\n",
    "                **then** prints number \n",
    "                **let** number+=2 and count+=1\n",
    "                **while loop ends**\n",
    "**if** choice==3 then:\n",
    "                **print** \"Program exit successfuly\""
   ]
  },
  {
   "cell_type": "markdown",
   "id": "da90efe1-fd4f-4aa4-909b-3c72186ffe3f",
   "metadata": {},
   "source": [
    "### Step 5:Flowchart drawn\n",
    "### Step 6: Suitable programming language,machine,ide\n",
    "Programming language:Python\n",
    "\n",
    "IDE:jupyter notebook\n",
    "\n",
    "Operating system:windows 11\n",
    "\n",
    "machine:i7\n",
    "### Step 7:Developer information\n",
    "Programmer name:Usfa Sohail\n",
    "\n",
    "Id:usfasohail389@gmail.com\n",
    "\n",
    "machine:i7\n",
    "\n",
    "program name:user driven that give choices\n",
    "### Step 8+9:Convert pseudocode code into code and test that code\n",
    "### Data for testing the code:\n",
    "choice=2"
   ]
  },
  {
   "cell_type": "code",
   "execution_count": 5,
   "id": "692050d2-f10c-405f-b272-ecfee8f269b7",
   "metadata": {},
   "outputs": [
    {
     "name": "stdout",
     "output_type": "stream",
     "text": [
      "Press 1 to print table or press 2 to print first 50 even numbers or press 3 to exit the program\n"
     ]
    },
    {
     "name": "stdin",
     "output_type": "stream",
     "text": [
      "Enter your choice: 2\n"
     ]
    },
    {
     "name": "stdout",
     "output_type": "stream",
     "text": [
      "2\n",
      "4\n",
      "6\n",
      "8\n",
      "10\n",
      "12\n",
      "14\n",
      "16\n",
      "18\n",
      "20\n",
      "22\n",
      "24\n",
      "26\n",
      "28\n",
      "30\n",
      "32\n",
      "34\n",
      "36\n",
      "38\n",
      "40\n",
      "42\n",
      "44\n",
      "46\n",
      "48\n",
      "50\n",
      "52\n",
      "54\n",
      "56\n",
      "58\n",
      "60\n",
      "62\n",
      "64\n",
      "66\n",
      "68\n",
      "70\n",
      "72\n",
      "74\n",
      "76\n",
      "78\n",
      "80\n",
      "82\n",
      "84\n",
      "86\n",
      "88\n",
      "90\n",
      "92\n",
      "94\n",
      "96\n",
      "98\n",
      "100\n"
     ]
    }
   ],
   "source": [
    "print(\"Press 1 to print table or press 2 to print first 50 even numbers or press 3 to exit the program\")\n",
    "choice=int(input(\"Enter your choice:\"))\n",
    "if choice==1:\n",
    "    number=int(input(\"Enter a number: \"))\n",
    "    for i in range(1, 11):\n",
    "        print(f\"{number} * {i} = {number * i}\")\n",
    "if choice==2:\n",
    "    count=0\n",
    "    number=2\n",
    "    while count < 50:\n",
    "        print(number)\n",
    "        number+=2\n",
    "        count+=1\n",
    "if choice==3:\n",
    "    print(\"Program exit successfuly\")"
   ]
  },
  {
   "cell_type": "markdown",
   "id": "798eec9f-57bb-45ba-a09d-bd1aea781ae4",
   "metadata": {},
   "source": [
    "### Step 10\n",
    "### Output of code\n",
    "Press 1 to print table or press 2 to print first 50 even numbers or press 3 to exit the program\n",
    "\n",
    "\n",
    "Enter your choice: 2\n",
    "\n",
    "\n",
    "2\n",
    "4\n",
    "6\n",
    "8\n",
    "10\n",
    "12\n",
    "14\n",
    "16\n",
    "18\n",
    "20\n",
    "22\n",
    "24\n",
    "26\n",
    "28\n",
    "30\n",
    "32\n",
    "34\n",
    "36\n",
    "38\n",
    "40\n",
    "42\n",
    "44\n",
    "46\n",
    "48\n",
    "50\n",
    "52\n",
    "54\n",
    "56\n",
    "58\n",
    "60\n",
    "62\n",
    "64\n",
    "66\n",
    "68\n",
    "70\n",
    "72\n",
    "74\n",
    "76\n",
    "78\n",
    "80\n",
    "82\n",
    "84\n",
    "86\n",
    "88\n",
    "90\n",
    "92\n",
    "94\n",
    "96\n",
    "98\n",
    "100"
   ]
  },
  {
   "cell_type": "markdown",
   "id": "756bda25-5eb8-4daa-974d-7a260d89b6d9",
   "metadata": {},
   "source": [
    "# TO DO Task:\n",
    "program that prints following pattern:\n",
    "\n",
    "\n",
    "1\n",
    "\n",
    "\n",
    "12\n",
    "\n",
    "\n",
    "123\n",
    "\n",
    "\n",
    "1234\n",
    "\n",
    "\n",
    "12345\n",
    "\n",
    "### Step 1:real word scenario:\n",
    "program that print pattern\n",
    "### Step 2:client requirement\n",
    "simple program that prints pattern\n",
    "### Step 3:input-processing-output\n",
    "### input:\n",
    "No of inputs=0\n",
    "### instruction:\n",
    "printing of pattern\n",
    "### processing:\n",
    "printing using increment and decrement of variables\n",
    "### Output:\n",
    "No of output:5 lines\n",
    "### Step 4: Pseudocode"
   ]
  },
  {
   "cell_type": "raw",
   "id": "535ab58c-2c51-48ff-a5eb-df8d523aa8cc",
   "metadata": {},
   "source": [
    "**Start**\n",
    "**Initialize** a variable n to the number of rows (in this case, 5)\n",
    "**Loop** from i = 1 to n\n",
    "**Inside the loop**, create another loop from j = 1 to i\n",
    "**Print** j without a newline\n",
    "**Print** a newline after the inner loop\n",
    "**End**"
   ]
  },
  {
   "cell_type": "markdown",
   "id": "ddde77a8-104a-4e29-9023-8414b6b9441c",
   "metadata": {},
   "source": [
    "### Step 5:Flowchart drawn\n",
    "### Step 6: Suitable programming language,machine,ide\n",
    "Programming language:Python\n",
    "\n",
    "IDE:jupyter notebook\n",
    "\n",
    "Operating system:windows 11\n",
    "\n",
    "machine:i7\n",
    "### Step 7:Developer information\n",
    "Programmer name:Usfa Sohail\n",
    "\n",
    "Id:usfasohail389@gmail.com\n",
    "\n",
    "machine:i7\n",
    "\n",
    "program name:printing of a particular pattern\n",
    "### Step 8+9:Convert pseudocode code into code and test that code\n",
    "### Data for testing the code:\n",
    "no data required"
   ]
  },
  {
   "cell_type": "code",
   "execution_count": 1,
   "id": "49948d98-8aca-4e6f-ba45-4a0e50f40b50",
   "metadata": {},
   "outputs": [
    {
     "name": "stdout",
     "output_type": "stream",
     "text": [
      "1\n",
      "12\n",
      "123\n",
      "1234\n",
      "12345\n"
     ]
    }
   ],
   "source": [
    "# Initialize the number of rows\n",
    "n = 5\n",
    "# Loop from 1 to n\n",
    "for i in range(1, n + 1):\n",
    "    for j in range(1, i + 1):\n",
    "        print(j, end=\"\")\n",
    "    print()"
   ]
  },
  {
   "cell_type": "markdown",
   "id": "0d8e4f73-d354-4690-9ea4-2de7eb092e41",
   "metadata": {},
   "source": [
    "### Step 10\n",
    "### Output of program\n",
    "\n",
    "\n",
    "1\n",
    "\n",
    "\n",
    "12\n",
    "\n",
    "\n",
    "123\n",
    "\n",
    "\n",
    "1234\n",
    "\n",
    "\n",
    "12345"
   ]
  },
  {
   "cell_type": "markdown",
   "id": "21f145bf-10db-4d17-b13d-33a22f007841",
   "metadata": {},
   "source": [
    "# TO DO Task:\n",
    "## Program that prints thw folowing pattern on the screen"
   ]
  },
  {
   "cell_type": "raw",
   "id": "3f03eea6-a127-4d3f-bd94-bb63e6c602b2",
   "metadata": {},
   "source": [
    "*\n",
    "**\n",
    "***\n",
    "****\n",
    "*****"
   ]
  },
  {
   "cell_type": "markdown",
   "id": "56769922-91cd-4284-b84a-528765d72310",
   "metadata": {},
   "source": [
    "### Step 1:real word scenario:\n",
    "program that print pattern\n",
    "### Step 2:client requirement\n",
    "simple program that prints pattern\n",
    "### Step 3:input-processing-output\n",
    "### input:\n",
    "No of inputs=0\n",
    "### instruction:\n",
    "printing of pattern\n",
    "### processing:\n",
    "printing using increment and decrement of variables\n",
    "### Output:\n",
    "No of output:5 lines\n",
    "### Step 4: Pseudocode"
   ]
  },
  {
   "cell_type": "raw",
   "id": "63d61875-0608-42c5-94a2-bbd566a9ed5b",
   "metadata": {},
   "source": [
    "**Start**\n",
    "**Initialize** a variable n to the number of rows (in this case, 5)\n",
    "**Loop** from i = 1 to n\n",
    "**Inside the loop**, create another loop from j = 1 to i\n",
    "**Print**   \"*\"   without a newline\n",
    "**Print** a newline after the inner loop\n",
    "**End**"
   ]
  },
  {
   "cell_type": "markdown",
   "id": "fb820090-0302-47a9-b8fd-dbb04c80a466",
   "metadata": {},
   "source": [
    "### Step 5:Flowchart drawn\n",
    "### Step 6: Suitable programming language,machine,ide\n",
    "Programming language:Python\n",
    "\n",
    "IDE:jupyter notebook\n",
    "\n",
    "Operating system:windows 11\n",
    "\n",
    "machine:i7\n",
    "### Step 7:Developer information\n",
    "Programmer name:Usfa Sohail\n",
    "\n",
    "Id:usfasohail389@gmail.com\n",
    "\n",
    "machine:i7\n",
    "\n",
    "program name:printing of a particular pattern\n",
    "### Step 8+9:Convert pseudocode code into code and test that code\n",
    "### Data for testing the code:\n",
    "no data required"
   ]
  },
  {
   "cell_type": "code",
   "execution_count": 2,
   "id": "7d2a2ed2-20dd-40c9-8111-dae2757be90d",
   "metadata": {},
   "outputs": [
    {
     "name": "stdout",
     "output_type": "stream",
     "text": [
      "*\n",
      "**\n",
      "***\n",
      "****\n",
      "*****\n"
     ]
    }
   ],
   "source": [
    "n = 5\n",
    "for i in range(1, n + 1):\n",
    "    for j in range(i):\n",
    "        print('*', end='')\n",
    "    print()"
   ]
  },
  {
   "cell_type": "markdown",
   "id": "4ef97969-d557-413f-9c2d-8cf4cadd15d6",
   "metadata": {},
   "source": [
    "### Step 10\n",
    "### Output of the program"
   ]
  },
  {
   "cell_type": "raw",
   "id": "1285e754-85ea-4484-bd92-367877d68ac4",
   "metadata": {},
   "source": [
    "*\n",
    "**\n",
    "***\n",
    "****\n",
    "*****"
   ]
  },
  {
   "cell_type": "markdown",
   "id": "a216ba9b-2459-4eeb-98b0-189bb9bbbbc2",
   "metadata": {},
   "source": [
    "# TO DO Task:\n",
    "## Program that prints the following pattern"
   ]
  },
  {
   "cell_type": "raw",
   "id": "beb5f6ed-e6a4-4793-bc5b-7d8f7d55b08b",
   "metadata": {},
   "source": [
    "*\n",
    "**\n",
    "***\n",
    "****\n",
    "*****\n",
    "****\n",
    "***\n",
    "**\n",
    "*"
   ]
  },
  {
   "cell_type": "markdown",
   "id": "9175d000-95fa-45f3-b5a3-63db9e07d91e",
   "metadata": {},
   "source": [
    "### Step 1:real word scenario:\n",
    "program that print pattern\n",
    "### Step 2:client requirement\n",
    "simple program that prints pattern\n",
    "### Step 3:input-processing-output\n",
    "### input:\n",
    "No of inputs=0\n",
    "### instruction:\n",
    "printing of pattern\n",
    "### processing:\n",
    "printing using increment and decrement of variables\n",
    "### Output:\n",
    "No of output:5 lines\n",
    "### Step 4: Pseudocode"
   ]
  },
  {
   "cell_type": "raw",
   "id": "662325bb-afe8-49b7-8dc4-ba64fb0e1e33",
   "metadata": {},
   "source": [
    "**start**\n",
    "**Initialize** Determine the maximum number of stars in the middle row\n",
    "**Loop to Print First Half** Loop from 1 to the maximum number of stars\n",
    "**Print** the current number of stars\n",
    "**Loop to Print Second Half** Loop from the maximum number of stars minus one to 1\n",
    "**Print** the current number of stars\n",
    "**end**"
   ]
  },
  {
   "cell_type": "markdown",
   "id": "1abf917e-e258-4834-a5f9-3c6ccd1e3844",
   "metadata": {},
   "source": [
    "### Step 5:Flowchart drawn\n",
    "### Step 6: Suitable programming language,machine,ide\n",
    "Programming language:Python\n",
    "\n",
    "IDE:jupyter notebook\n",
    "\n",
    "Operating system:windows 11\n",
    "\n",
    "machine:i7\n",
    "### Step 7:Developer information\n",
    "Programmer name:Usfa Sohail\n",
    "\n",
    "Id:usfasohail389@gmail.com\n",
    "\n",
    "machine:i7\n",
    "\n",
    "program name:printing of a particular pattern\n",
    "### Step 8+9:Convert pseudocode code into code and test that code\n",
    "### Data for testing the code:\n",
    "no data required"
   ]
  },
  {
   "cell_type": "code",
   "execution_count": 3,
   "id": "388c3588-55f3-49f8-942a-b4588ffa2e2c",
   "metadata": {},
   "outputs": [
    {
     "name": "stdout",
     "output_type": "stream",
     "text": [
      "*\n",
      "**\n",
      "***\n",
      "****\n",
      "*****\n",
      "****\n",
      "***\n",
      "**\n",
      "*\n"
     ]
    }
   ],
   "source": [
    "# Define the maximum number of stars in the middle row\n",
    "max_stars = 5\n",
    "# Loop to print the first half of the pattern\n",
    "for i in range(1, max_stars + 1):\n",
    "    print('*' * i)\n",
    "# Loop to print the second half of the pattern\n",
    "for i in range(max_stars - 1, 0, -1):\n",
    "    print('*' * i)"
   ]
  },
  {
   "cell_type": "markdown",
   "id": "3a6e1682-551e-4855-a162-ce6e462fd355",
   "metadata": {},
   "source": [
    "### Step 10\n",
    "### Output of the program"
   ]
  },
  {
   "cell_type": "raw",
   "id": "3ce9bd00-d7b2-4256-afda-3812dc2ea7f6",
   "metadata": {},
   "source": [
    "*\n",
    "**\n",
    "***\n",
    "****\n",
    "*****\n",
    "****\n",
    "***\n",
    "**\n",
    "*"
   ]
  },
  {
   "cell_type": "markdown",
   "id": "8ceb8d75-ce53-48e1-b716-3c390325763a",
   "metadata": {},
   "source": [
    "# TO DO Task:\n",
    "## Write a program that prints pyramid on the screen"
   ]
  },
  {
   "cell_type": "markdown",
   "id": "e3bd7068-e0a7-4415-a2c3-20427b78d7cd",
   "metadata": {},
   "source": [
    "### Step 1:real word scenario:\n",
    "program that print pattern\n",
    "### Step 2:client requirement\n",
    "simple program that prints pattern\n",
    "### Step 3:input-processing-output\n",
    "### input:\n",
    "No of inputs=0\n",
    "### instruction:\n",
    "printing of pattern\n",
    "### processing:\n",
    "printing using increment and decrement of variables\n",
    "### Output:\n",
    "pyramid on the screen\n",
    "### Step 4: Pseudocode"
   ]
  },
  {
   "cell_type": "raw",
   "id": "29d7ffe7-729d-4595-a267-39e2efbaa1aa",
   "metadata": {},
   "source": [
    "**start**\n",
    "**Set** num_rows to 5.\n",
    "**For** i from 1 to num_rows (inclusive):\n",
    "**Initialize** a loop to run num_rows - i times:\n",
    "**Print** a space (' ').\n",
    "**Initialize** a loop to run 2 * i - 1 times:\n",
    "**Print** a star ('*').\n",
    "**Print** a newline to move to the next row.\n",
    "**end**"
   ]
  },
  {
   "cell_type": "markdown",
   "id": "0dbac8b8-2b28-41db-a5b7-1f5a0e36e8de",
   "metadata": {},
   "source": [
    "### Step 5:Flowchart drawn\n",
    "### Step 6: Suitable programming language,machine,ide\n",
    "Programming language:Python\n",
    "\n",
    "IDE:jupyter notebook\n",
    "\n",
    "Operating system:windows 11\n",
    "\n",
    "machine:i7\n",
    "### Step 7:Developer information\n",
    "Programmer name:Usfa Sohail\n",
    "\n",
    "Id:usfasohail389@gmail.com\n",
    "\n",
    "machine:i7\n",
    "\n",
    "program name:printing of a pyramid pattern\n",
    "### Step 8+9:Convert pseudocode code into code and test that code\n",
    "### Data for testing the code:\n",
    "no data required"
   ]
  },
  {
   "cell_type": "code",
   "execution_count": 4,
   "id": "9dcb0373-76a1-4c67-acbe-160ecac85ac0",
   "metadata": {},
   "outputs": [
    {
     "name": "stdout",
     "output_type": "stream",
     "text": [
      "    *\n",
      "   ***\n",
      "  *****\n",
      " *******\n",
      "*********\n"
     ]
    }
   ],
   "source": [
    "# Number of rows for the pyramid\n",
    "num_rows = 5\n",
    "# Loop to print each row\n",
    "for i in range(1, num_rows + 1):\n",
    "    # Print leading spaces\n",
    "    for _ in range(num_rows - i):\n",
    "        print(' ', end='')\n",
    "    # Print stars\n",
    "    for _ in range(2 * i - 1):\n",
    "        print('*', end='')\n",
    "    # Move to the next line\n",
    "    print()"
   ]
  },
  {
   "cell_type": "markdown",
   "id": "d248280f-2664-46e2-b075-902bdff9f8d6",
   "metadata": {},
   "source": [
    "## Step 10\n",
    "### Output of program"
   ]
  },
  {
   "cell_type": "raw",
   "id": "3fba1603-2ec4-4251-ae47-16439a669e58",
   "metadata": {},
   "source": [
    "    *\n",
    "   ***\n",
    "  *****\n",
    " *******\n",
    "*********"
   ]
  }
 ],
 "metadata": {
  "kernelspec": {
   "display_name": "Python 3 (ipykernel)",
   "language": "python",
   "name": "python3"
  },
  "language_info": {
   "codemirror_mode": {
    "name": "ipython",
    "version": 3
   },
   "file_extension": ".py",
   "mimetype": "text/x-python",
   "name": "python",
   "nbconvert_exporter": "python",
   "pygments_lexer": "ipython3",
   "version": "3.12.3"
  }
 },
 "nbformat": 4,
 "nbformat_minor": 5
}
